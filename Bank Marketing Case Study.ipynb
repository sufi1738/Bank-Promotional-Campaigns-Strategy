{
 "cells": [
  {
   "cell_type": "markdown",
   "metadata": {},
   "source": [
    "# **Bank Marketing DataSet - Intelligent Targeting**\n",
    "\n",
    "Marketing campaigns are characterized by focusing on the customer needs and their overall satisfaction. Nevertheless, there are different variables that determine whether a marketing campaign will be successful or not. Some important aspects of a marketing campaign are as follows: \n",
    "\n",
    "**Segment of the Population:** To which segment of the population is the marketing campaign going to address and why? This aspect of the marketing campaign is extremely important since it will tell to which part of the population should most likely receive the message of the marketing campaign. \n",
    "\n",
    "**Distribution channel to reach the customer's place:** Implementing the most effective strategy in order to get the most out of this marketing campaign. What segment of the population should we address? Which instrument should we use to get our message out? (Ex: Telephones, Radio, TV, Social Media Etc.) \n",
    "\n",
    "**Promotional Strategy:** This is the way the strategy is going to be implemented and how are potential clients going to be address. This should be the last part of the marketing campaign analysis since there has to be an in-depth analysis of previous campaigns (If possible) in order to learn from previous mistakes and to determine how to make the marketing campaign much more effective.\n",
    "\n",
    "You are leading the marketing analytics team for a banking institution. There has been a revenue decline for the bank and they would like to know what actions to take. After investigation, it was found that the root cause is that their clients are not depositing as frequently as before. Term deposits allow banks to hold onto a deposit for a specific amount of time, so banks can lend more and thus make more profits. In addition, banks also hold better chance to persuade term deposit clients into buying other products such as funds or insurance to further increase their revenues.\n",
    "\n",
    "You are provided a dataset containing details of marketing campaigns done via phone with various details for customers such as demographics, last campaign details etc. Can you help the bank to predict accurately whether the customer will subscribe to the focus product for the campaign - Term Deposit after the campaign?"
   ]
  },
  {
   "cell_type": "markdown",
   "metadata": {},
   "source": [
    "##  Life Cycle of the Project:\n",
    "    1.Data Analysis\n",
    "    2.Feature Engineering\n",
    "    3.Feature Selection\n",
    "    4.Model Building\n",
    "    5.Model Deployment"
   ]
  },
  {
   "cell_type": "code",
   "execution_count": 2,
   "metadata": {},
   "outputs": [],
   "source": [
    "import warnings\n",
    "warnings.simplefilter('ignore')"
   ]
  },
  {
   "cell_type": "code",
   "execution_count": 3,
   "metadata": {},
   "outputs": [],
   "source": [
    "# Importing the necessary libraries \n",
    "import pandas as pd\n",
    "import numpy as np\n",
    "import matplotlib.pyplot as plt\n",
    "import seaborn as sns\n",
    "%matplotlib inline\n",
    "\n",
    "# Display all the columns of the dataframe\n",
    "pd.pandas.set_option('display.max_columns',None)"
   ]
  },
  {
   "cell_type": "code",
   "execution_count": 4,
   "metadata": {},
   "outputs": [],
   "source": [
    "from sklearn.metrics import accuracy_score, f1_score\n",
    "from sklearn.linear_model import LogisticRegression"
   ]
  },
  {
   "cell_type": "markdown",
   "metadata": {},
   "source": [
    "### Exploratory Data Analysis"
   ]
  },
  {
   "cell_type": "markdown",
   "metadata": {},
   "source": [
    "Before going to any kind of modelling, we will always want to have a look at the kind of data that we have.  \n",
    "\n",
    "We have been provided three files. A description for what each of these files contain is given below:\n",
    "\n",
    "\n",
    "1.     **SampleSubmission.csv**: This gives us a required format for submitting our solutions to the AV solution checker.\n",
    "2.     **Train.csv**: We will use this file for training our model. It contains variables or features that we will input to our model, and the *target variable* that we want to predict.\n",
    "3.     **Test.csv**: This will contain all variables in the training dataset except the *target variable*. We will use our trained model to predict the target for this dataset. \n"
   ]
  },
  {
   "cell_type": "markdown",
   "metadata": {},
   "source": [
    "#### Reading the data"
   ]
  },
  {
   "cell_type": "code",
   "execution_count": 5,
   "metadata": {},
   "outputs": [],
   "source": [
    "train = pd.read_csv('D:/Business Analytics/Analytics Vidya/Bank Marketing Dataset - Intelligent Targeting/Train.csv', sep=',')\n",
    "test = pd.read_csv('D:/Business Analytics/Analytics Vidya/Bank Marketing Dataset - Intelligent Targeting/Test.csv', sep=',')"
   ]
  },
  {
   "cell_type": "code",
   "execution_count": 6,
   "metadata": {},
   "outputs": [],
   "source": [
    "# Complete Dataset\n",
    "#data = train.append(test)"
   ]
  },
  {
   "cell_type": "code",
   "execution_count": 7,
   "metadata": {},
   "outputs": [],
   "source": [
    "sample_sub = pd.read_csv('D:/Business Analytics/Analytics Vidya/Bank Marketing Dataset - Intelligent Targeting/Sample_Submission.csv', sep=',')"
   ]
  },
  {
   "cell_type": "markdown",
   "metadata": {},
   "source": [
    "#### Brief look at the dataset"
   ]
  },
  {
   "cell_type": "code",
   "execution_count": 8,
   "metadata": {},
   "outputs": [
    {
     "data": {
      "text/html": [
       "<div>\n",
       "<style scoped>\n",
       "    .dataframe tbody tr th:only-of-type {\n",
       "        vertical-align: middle;\n",
       "    }\n",
       "\n",
       "    .dataframe tbody tr th {\n",
       "        vertical-align: top;\n",
       "    }\n",
       "\n",
       "    .dataframe thead th {\n",
       "        text-align: right;\n",
       "    }\n",
       "</style>\n",
       "<table border=\"1\" class=\"dataframe\">\n",
       "  <thead>\n",
       "    <tr style=\"text-align: right;\">\n",
       "      <th></th>\n",
       "      <th>id</th>\n",
       "      <th>customer_age</th>\n",
       "      <th>job_type</th>\n",
       "      <th>marital</th>\n",
       "      <th>education</th>\n",
       "      <th>default</th>\n",
       "      <th>balance</th>\n",
       "      <th>housing_loan</th>\n",
       "      <th>personal_loan</th>\n",
       "      <th>communication_type</th>\n",
       "      <th>day_of_month</th>\n",
       "      <th>month</th>\n",
       "      <th>last_contact_duration</th>\n",
       "      <th>num_contacts_in_campaign</th>\n",
       "      <th>days_since_prev_campaign_contact</th>\n",
       "      <th>num_contacts_prev_campaign</th>\n",
       "      <th>prev_campaign_outcome</th>\n",
       "      <th>term_deposit_subscribed</th>\n",
       "    </tr>\n",
       "  </thead>\n",
       "  <tbody>\n",
       "    <tr>\n",
       "      <th>0</th>\n",
       "      <td>id_43823</td>\n",
       "      <td>28.0</td>\n",
       "      <td>management</td>\n",
       "      <td>single</td>\n",
       "      <td>tertiary</td>\n",
       "      <td>no</td>\n",
       "      <td>285.0</td>\n",
       "      <td>yes</td>\n",
       "      <td>no</td>\n",
       "      <td>unknown</td>\n",
       "      <td>26</td>\n",
       "      <td>jun</td>\n",
       "      <td>303.0</td>\n",
       "      <td>4.0</td>\n",
       "      <td>NaN</td>\n",
       "      <td>0</td>\n",
       "      <td>unknown</td>\n",
       "      <td>0</td>\n",
       "    </tr>\n",
       "    <tr>\n",
       "      <th>1</th>\n",
       "      <td>id_32289</td>\n",
       "      <td>34.0</td>\n",
       "      <td>blue-collar</td>\n",
       "      <td>married</td>\n",
       "      <td>secondary</td>\n",
       "      <td>no</td>\n",
       "      <td>934.0</td>\n",
       "      <td>no</td>\n",
       "      <td>yes</td>\n",
       "      <td>cellular</td>\n",
       "      <td>18</td>\n",
       "      <td>nov</td>\n",
       "      <td>143.0</td>\n",
       "      <td>2.0</td>\n",
       "      <td>132.0</td>\n",
       "      <td>1</td>\n",
       "      <td>other</td>\n",
       "      <td>0</td>\n",
       "    </tr>\n",
       "    <tr>\n",
       "      <th>2</th>\n",
       "      <td>id_10523</td>\n",
       "      <td>46.0</td>\n",
       "      <td>technician</td>\n",
       "      <td>married</td>\n",
       "      <td>secondary</td>\n",
       "      <td>no</td>\n",
       "      <td>656.0</td>\n",
       "      <td>no</td>\n",
       "      <td>no</td>\n",
       "      <td>cellular</td>\n",
       "      <td>5</td>\n",
       "      <td>feb</td>\n",
       "      <td>101.0</td>\n",
       "      <td>4.0</td>\n",
       "      <td>NaN</td>\n",
       "      <td>0</td>\n",
       "      <td>unknown</td>\n",
       "      <td>0</td>\n",
       "    </tr>\n",
       "  </tbody>\n",
       "</table>\n",
       "</div>"
      ],
      "text/plain": [
       "         id  customer_age     job_type  marital  education default  balance  \\\n",
       "0  id_43823          28.0   management   single   tertiary      no    285.0   \n",
       "1  id_32289          34.0  blue-collar  married  secondary      no    934.0   \n",
       "2  id_10523          46.0   technician  married  secondary      no    656.0   \n",
       "\n",
       "  housing_loan personal_loan communication_type  day_of_month month  \\\n",
       "0          yes            no            unknown            26   jun   \n",
       "1           no           yes           cellular            18   nov   \n",
       "2           no            no           cellular             5   feb   \n",
       "\n",
       "   last_contact_duration  num_contacts_in_campaign  \\\n",
       "0                  303.0                       4.0   \n",
       "1                  143.0                       2.0   \n",
       "2                  101.0                       4.0   \n",
       "\n",
       "   days_since_prev_campaign_contact  num_contacts_prev_campaign  \\\n",
       "0                               NaN                           0   \n",
       "1                             132.0                           1   \n",
       "2                               NaN                           0   \n",
       "\n",
       "  prev_campaign_outcome  term_deposit_subscribed  \n",
       "0               unknown                        0  \n",
       "1                 other                        0  \n",
       "2               unknown                        0  "
      ]
     },
     "execution_count": 8,
     "metadata": {},
     "output_type": "execute_result"
    }
   ],
   "source": [
    "train.head(3)"
   ]
  },
  {
   "cell_type": "code",
   "execution_count": 9,
   "metadata": {},
   "outputs": [
    {
     "data": {
      "text/html": [
       "<div>\n",
       "<style scoped>\n",
       "    .dataframe tbody tr th:only-of-type {\n",
       "        vertical-align: middle;\n",
       "    }\n",
       "\n",
       "    .dataframe tbody tr th {\n",
       "        vertical-align: top;\n",
       "    }\n",
       "\n",
       "    .dataframe thead th {\n",
       "        text-align: right;\n",
       "    }\n",
       "</style>\n",
       "<table border=\"1\" class=\"dataframe\">\n",
       "  <thead>\n",
       "    <tr style=\"text-align: right;\">\n",
       "      <th></th>\n",
       "      <th>id</th>\n",
       "      <th>customer_age</th>\n",
       "      <th>job_type</th>\n",
       "      <th>marital</th>\n",
       "      <th>education</th>\n",
       "      <th>default</th>\n",
       "      <th>balance</th>\n",
       "      <th>housing_loan</th>\n",
       "      <th>personal_loan</th>\n",
       "      <th>communication_type</th>\n",
       "      <th>day_of_month</th>\n",
       "      <th>month</th>\n",
       "      <th>last_contact_duration</th>\n",
       "      <th>num_contacts_in_campaign</th>\n",
       "      <th>days_since_prev_campaign_contact</th>\n",
       "      <th>num_contacts_prev_campaign</th>\n",
       "      <th>prev_campaign_outcome</th>\n",
       "    </tr>\n",
       "  </thead>\n",
       "  <tbody>\n",
       "    <tr>\n",
       "      <th>0</th>\n",
       "      <td>id_17231</td>\n",
       "      <td>55.0</td>\n",
       "      <td>retired</td>\n",
       "      <td>married</td>\n",
       "      <td>tertiary</td>\n",
       "      <td>no</td>\n",
       "      <td>7136.0</td>\n",
       "      <td>no</td>\n",
       "      <td>no</td>\n",
       "      <td>cellular</td>\n",
       "      <td>13</td>\n",
       "      <td>aug</td>\n",
       "      <td>90.0</td>\n",
       "      <td>2.0</td>\n",
       "      <td>NaN</td>\n",
       "      <td>0</td>\n",
       "      <td>unknown</td>\n",
       "    </tr>\n",
       "    <tr>\n",
       "      <th>1</th>\n",
       "      <td>id_34508</td>\n",
       "      <td>24.0</td>\n",
       "      <td>blue-collar</td>\n",
       "      <td>single</td>\n",
       "      <td>secondary</td>\n",
       "      <td>no</td>\n",
       "      <td>179.0</td>\n",
       "      <td>yes</td>\n",
       "      <td>no</td>\n",
       "      <td>cellular</td>\n",
       "      <td>18</td>\n",
       "      <td>may</td>\n",
       "      <td>63.0</td>\n",
       "      <td>2.0</td>\n",
       "      <td>NaN</td>\n",
       "      <td>0</td>\n",
       "      <td>unknown</td>\n",
       "    </tr>\n",
       "    <tr>\n",
       "      <th>2</th>\n",
       "      <td>id_44504</td>\n",
       "      <td>46.0</td>\n",
       "      <td>technician</td>\n",
       "      <td>divorced</td>\n",
       "      <td>secondary</td>\n",
       "      <td>no</td>\n",
       "      <td>143.0</td>\n",
       "      <td>no</td>\n",
       "      <td>no</td>\n",
       "      <td>cellular</td>\n",
       "      <td>8</td>\n",
       "      <td>jul</td>\n",
       "      <td>208.0</td>\n",
       "      <td>1.0</td>\n",
       "      <td>NaN</td>\n",
       "      <td>0</td>\n",
       "      <td>unknown</td>\n",
       "    </tr>\n",
       "  </tbody>\n",
       "</table>\n",
       "</div>"
      ],
      "text/plain": [
       "         id  customer_age     job_type   marital  education default  balance  \\\n",
       "0  id_17231          55.0      retired   married   tertiary      no   7136.0   \n",
       "1  id_34508          24.0  blue-collar    single  secondary      no    179.0   \n",
       "2  id_44504          46.0   technician  divorced  secondary      no    143.0   \n",
       "\n",
       "  housing_loan personal_loan communication_type  day_of_month month  \\\n",
       "0           no            no           cellular            13   aug   \n",
       "1          yes            no           cellular            18   may   \n",
       "2           no            no           cellular             8   jul   \n",
       "\n",
       "   last_contact_duration  num_contacts_in_campaign  \\\n",
       "0                   90.0                       2.0   \n",
       "1                   63.0                       2.0   \n",
       "2                  208.0                       1.0   \n",
       "\n",
       "   days_since_prev_campaign_contact  num_contacts_prev_campaign  \\\n",
       "0                               NaN                           0   \n",
       "1                               NaN                           0   \n",
       "2                               NaN                           0   \n",
       "\n",
       "  prev_campaign_outcome  \n",
       "0               unknown  \n",
       "1               unknown  \n",
       "2               unknown  "
      ]
     },
     "execution_count": 9,
     "metadata": {},
     "output_type": "execute_result"
    }
   ],
   "source": [
    "test.head(3)"
   ]
  },
  {
   "cell_type": "code",
   "execution_count": 10,
   "metadata": {},
   "outputs": [],
   "source": [
    "train.rename(columns={'term_deposit_subscribed':'target'},inplace=True)\n",
    "test.rename(columns={'term_deposit_subscribed':'target'},inplace=True)"
   ]
  },
  {
   "cell_type": "markdown",
   "metadata": {},
   "source": [
    "#### Dataset Shape (Number of Samples and Variables in the dataset)"
   ]
  },
  {
   "cell_type": "code",
   "execution_count": 11,
   "metadata": {},
   "outputs": [
    {
     "name": "stdout",
     "output_type": "stream",
     "text": [
      "\n",
      "Train dataset contains 31647 samples and 18 variables\n",
      "\n",
      "Test dataset contains 13564 samples and 17 variables\n",
      "\n",
      "Dataset contains 16 features\n"
     ]
    }
   ],
   "source": [
    "print(f'\\nTrain dataset contains {train.shape[0]} samples and {train.shape[1]} variables')\n",
    "print(f'\\nTest dataset contains {test.shape[0]} samples and {test.shape[1]} variables')\n",
    "feature = [feature for feature in train.columns.difference(['target','id'])]\n",
    "print(f'\\nDataset contains {len(feature)} features')"
   ]
  },
  {
   "cell_type": "markdown",
   "metadata": {},
   "source": [
    "#### Target Distribution"
   ]
  },
  {
   "cell_type": "markdown",
   "metadata": {},
   "source": [
    "This is a binary classification problem. Lets have a look at the number of positive and negative examples that we have. In our problem statement terms: '*Number of People who did subscribe for a term deposit and the number of people who did not'*"
   ]
  },
  {
   "cell_type": "code",
   "execution_count": 12,
   "metadata": {},
   "outputs": [
    {
     "data": {
      "text/plain": [
       "0    0.8928\n",
       "1    0.1072\n",
       "Name: target, dtype: float64"
      ]
     },
     "execution_count": 12,
     "metadata": {},
     "output_type": "execute_result"
    }
   ],
   "source": [
    "train.target.value_counts(normalize=True).round(4)"
   ]
  },
  {
   "cell_type": "markdown",
   "metadata": {},
   "source": [
    "Visually we are able to see communicate things more clearly and graphs help us do that. Lets visualize the same target distribution in a countplot."
   ]
  },
  {
   "cell_type": "code",
   "execution_count": 13,
   "metadata": {},
   "outputs": [
    {
     "data": {
      "image/png": "[encoded data removed]",
      "text/plain": [
       "<Figure size 432x288 with 1 Axes>"
      ]
     },
     "metadata": {
      "needs_background": "light"
     },
     "output_type": "display_data"
    }
   ],
   "source": [
    "sns.countplot(data=train,x='target')\n",
    "plt.title('Target Distribution',fontsize=13)\n",
    "plt.xlabel('Target',fontsize=11)\n",
    "plt.ylabel('Number of Customers',fontsize=11)\n",
    "plt.show()"
   ]
  },
  {
   "cell_type": "markdown",
   "metadata": {},
   "source": [
    "Quite obviously dataset is very imbalanced. Only about 10 % of the examples are positive."
   ]
  },
  {
   "cell_type": "markdown",
   "metadata": {},
   "source": [
    "#### Variables Datatypes"
   ]
  },
  {
   "cell_type": "code",
   "execution_count": 14,
   "metadata": {},
   "outputs": [
    {
     "data": {
      "text/plain": [
       "id                                   object\n",
       "customer_age                        float64\n",
       "job_type                             object\n",
       "marital                              object\n",
       "education                            object\n",
       "default                              object\n",
       "balance                             float64\n",
       "housing_loan                         object\n",
       "personal_loan                        object\n",
       "communication_type                   object\n",
       "day_of_month                          int64\n",
       "month                                object\n",
       "last_contact_duration               float64\n",
       "num_contacts_in_campaign            float64\n",
       "days_since_prev_campaign_contact    float64\n",
       "num_contacts_prev_campaign            int64\n",
       "prev_campaign_outcome                object\n",
       "target                                int64\n",
       "dtype: object"
      ]
     },
     "execution_count": 14,
     "metadata": {},
     "output_type": "execute_result"
    }
   ],
   "source": [
    "train.dtypes"
   ]
  },
  {
   "cell_type": "markdown",
   "metadata": {},
   "source": [
    "Looks like we have a mixture of datatypes, a lot of these variables are object datatypes. Object datatypes are used to store strings along with other non-numeric data.\n",
    "\n",
    "Machine Learning Models understand only numbers so we will have to later convert these strings to numbers"
   ]
  },
  {
   "cell_type": "markdown",
   "metadata": {},
   "source": [
    "#### Null Values"
   ]
  },
  {
   "cell_type": "code",
   "execution_count": 15,
   "metadata": {},
   "outputs": [
    {
     "data": {
      "text/plain": [
       "days_since_prev_campaign_contact    81.62\n",
       "customer_age                         1.96\n",
       "balance                              1.26\n",
       "last_contact_duration                0.98\n",
       "personal_loan                        0.47\n",
       "marital                              0.47\n",
       "num_contacts_in_campaign             0.35\n",
       "job_type                             0.00\n",
       "education                            0.00\n",
       "default                              0.00\n",
       "target                               0.00\n",
       "housing_loan                         0.00\n",
       "prev_campaign_outcome                0.00\n",
       "communication_type                   0.00\n",
       "day_of_month                         0.00\n",
       "month                                0.00\n",
       "num_contacts_prev_campaign           0.00\n",
       "id                                   0.00\n",
       "dtype: float64"
      ]
     },
     "execution_count": 15,
     "metadata": {},
     "output_type": "execute_result"
    }
   ],
   "source": [
    "100*(train.isnull().sum()/train.shape[0]).round(4).sort_values(ascending=False)"
   ]
  },
  {
   "cell_type": "markdown",
   "metadata": {},
   "source": [
    "One feature 'days_since_prev_campaign_contact' has a lot of null values around 81.6 %, which might mean that these customers were never reached out in the previous campaign, there are few missing values in customer age, balance, last contact duration, personal loan, marital status & number of contacts in campaign"
   ]
  },
  {
   "cell_type": "markdown",
   "metadata": {},
   "source": [
    "#### Unique values in each variables"
   ]
  },
  {
   "cell_type": "code",
   "execution_count": 16,
   "metadata": {},
   "outputs": [
    {
     "data": {
      "text/plain": [
       "id                                  31647\n",
       "customer_age                           77\n",
       "job_type                               12\n",
       "marital                                 3\n",
       "education                               4\n",
       "default                                 2\n",
       "balance                              6563\n",
       "housing_loan                            2\n",
       "personal_loan                           2\n",
       "communication_type                      3\n",
       "day_of_month                           31\n",
       "month                                  12\n",
       "last_contact_duration                1447\n",
       "num_contacts_in_campaign               46\n",
       "days_since_prev_campaign_contact      511\n",
       "num_contacts_prev_campaign             41\n",
       "prev_campaign_outcome                   4\n",
       "target                                  2\n",
       "dtype: int64"
      ]
     },
     "execution_count": 16,
     "metadata": {},
     "output_type": "execute_result"
    }
   ],
   "source": [
    "train.nunique()"
   ]
  },
  {
   "cell_type": "markdown",
   "metadata": {},
   "source": [
    "The numerical features 'balance', 'last_contact_duration', 'num_contacts_in_campaign', 'days_since_prev_campaign_contact', 'num_contacts_prev_campaign' contain a lot of unique values which is quite obvious.\n",
    "\n",
    "Similarly 'day_of_month' contains 31 unique values for each of 31 possible days in a month. Month from January to December contains '12' unique values."
   ]
  },
  {
   "cell_type": "markdown",
   "metadata": {},
   "source": [
    "#### Analyzing each variable & their relationships "
   ]
  },
  {
   "cell_type": "markdown",
   "metadata": {},
   "source": [
    "There are two types of features that we have:\n",
    "\n",
    "1. Categorical\n",
    "2. Numerical\n",
    "\n",
    "Also our target is Binary\n",
    "\n",
    "For each feature type we will be perform two types of analysis:\n",
    "\n",
    "1. Univariate: Analyze 1 feature at a time\n",
    "\n",
    "2. Bivariate: Analyze the relationship of that feature with target variable, i.e. 'term_deposit_subscribed'(target)\n",
    "\n",
    "\n",
    "But before jumping straight into analysis, lets have a look at the variables we had and try to ask some questions ourselves\n",
    "\n"
   ]
  },
  {
   "cell_type": "code",
   "execution_count": 17,
   "metadata": {},
   "outputs": [
    {
     "data": {
      "text/plain": [
       "Index(['id', 'customer_age', 'job_type', 'marital', 'education', 'default',\n",
       "       'balance', 'housing_loan', 'personal_loan', 'communication_type',\n",
       "       'day_of_month', 'month', 'last_contact_duration',\n",
       "       'num_contacts_in_campaign', 'days_since_prev_campaign_contact',\n",
       "       'num_contacts_prev_campaign', 'prev_campaign_outcome', 'target'],\n",
       "      dtype='object')"
      ]
     },
     "execution_count": 17,
     "metadata": {},
     "output_type": "execute_result"
    }
   ],
   "source": [
    "train.columns"
   ]
  },
  {
   "cell_type": "markdown",
   "metadata": {},
   "source": [
    "#### Segregating Categorical & Numerical Variables"
   ]
  },
  {
   "cell_type": "code",
   "execution_count": 18,
   "metadata": {},
   "outputs": [],
   "source": [
    "cat_feature = [feature for feature in train.columns.difference(['id']) if (train[feature].dtype=='O')]\n",
    "num_feature = [feature for feature in train.columns.difference(['target']) if (train[feature].dtype=='int64')|(train[feature].dtype=='float64')]\n",
    "#cat_feature = [feature for feature in train.columns if feature not in num_feature ]"
   ]
  },
  {
   "cell_type": "code",
   "execution_count": 19,
   "metadata": {},
   "outputs": [
    {
     "data": {
      "text/plain": [
       "['balance',\n",
       " 'customer_age',\n",
       " 'day_of_month',\n",
       " 'days_since_prev_campaign_contact',\n",
       " 'last_contact_duration',\n",
       " 'num_contacts_in_campaign',\n",
       " 'num_contacts_prev_campaign']"
      ]
     },
     "execution_count": 19,
     "metadata": {},
     "output_type": "execute_result"
    }
   ],
   "source": [
    "num_feature"
   ]
  },
  {
   "cell_type": "code",
   "execution_count": 20,
   "metadata": {},
   "outputs": [
    {
     "data": {
      "text/plain": [
       "['communication_type',\n",
       " 'default',\n",
       " 'education',\n",
       " 'housing_loan',\n",
       " 'job_type',\n",
       " 'marital',\n",
       " 'month',\n",
       " 'personal_loan',\n",
       " 'prev_campaign_outcome']"
      ]
     },
     "execution_count": 20,
     "metadata": {},
     "output_type": "execute_result"
    }
   ],
   "source": [
    "cat_feature"
   ]
  },
  {
   "cell_type": "markdown",
   "metadata": {},
   "source": [
    "#### Categorical Features"
   ]
  },
  {
   "cell_type": "markdown",
   "metadata": {},
   "source": [
    "#### **Univariate Analysis - Pie Charts.**\n",
    "\n",
    "Pie Charts can be useful in seeing the proportion of samples, that fall into each category of a categorical variable. For each of the categorical variables we will make a pie chart."
   ]
  },
  {
   "cell_type": "code",
   "execution_count": 21,
   "metadata": {},
   "outputs": [
    {
     "data": {
      "image/png": "[encoded data removed]",
      "text/plain": [
       "<Figure size 720x1440 with 9 Axes>"
      ]
     },
     "metadata": {},
     "output_type": "display_data"
    }
   ],
   "source": [
    "plt.figure(figsize=(10,20))\n",
    "for i,feature in enumerate(cat_feature):\n",
    "    data = train.copy()\n",
    "    plt.subplot(5,2,i+1)\n",
    "    data[feature].value_counts()[::-1].plot(kind='pie', autopct='%1.1f%%')\n",
    "    plt.title(feature)\n",
    "    plt.tight_layout()\n",
    "    "
   ]
  },
  {
   "cell_type": "markdown",
   "metadata": {},
   "source": [
    "#### **Univariate Analysis - CountPlots**\n",
    "\n",
    "Another way of looking at the counts of each of the categories is countplots. These are similar to barplots with the width of the bars representing the count of the category in the variable"
   ]
  },
  {
   "cell_type": "code",
   "execution_count": 22,
   "metadata": {},
   "outputs": [
    {
     "data": {
      "image/png": "[encoded data removed]",
      "text/plain": [
       "<Figure size 720x1440 with 9 Axes>"
      ]
     },
     "metadata": {
      "needs_background": "light"
     },
     "output_type": "display_data"
    }
   ],
   "source": [
    "plt.figure(figsize=(10,20))\n",
    "for i,feature in enumerate(cat_feature):\n",
    "    data = train.copy()\n",
    "    plt.subplot(5,2,i+1)\n",
    "    data[feature].value_counts()[::-1].plot(kind='bar')\n",
    "    plt.title(feature)\n",
    "    plt.tight_layout()"
   ]
  },
  {
   "cell_type": "markdown",
   "metadata": {},
   "source": [
    "#### Bivariate Analysis - Relationship with Target"
   ]
  },
  {
   "cell_type": "code",
   "execution_count": 23,
   "metadata": {},
   "outputs": [
    {
     "data": {
      "image/png": "[encoded data removed]",
      "text/plain": [
       "<Figure size 1008x1440 with 9 Axes>"
      ]
     },
     "metadata": {
      "needs_background": "light"
     },
     "output_type": "display_data"
    }
   ],
   "source": [
    "plt.figure(figsize=(14,20))\n",
    "for i,feature in enumerate(cat_feature):\n",
    "    data = train.copy()\n",
    "    plt.subplot(5,2,i+1)\n",
    "    plt.tight_layout()\n",
    "    sns.countplot(x=feature,hue='target',data=data,palette = \"Blues\",edgecolor='black')\n",
    "    plt.title(feature)"
   ]
  },
  {
   "cell_type": "markdown",
   "metadata": {},
   "source": [
    "**Q. Do married people have more chances of subscribing to a term deposit ?**\n"
   ]
  },
  {
   "cell_type": "code",
   "execution_count": 24,
   "metadata": {},
   "outputs": [
    {
     "data": {
      "image/png": "[encoded data removed]",
      "text/plain": [
       "<Figure size 432x288 with 1 Axes>"
      ]
     },
     "metadata": {
      "needs_background": "light"
     },
     "output_type": "display_data"
    }
   ],
   "source": [
    "train.groupby(by='marital')['target'].mean().sort_values().plot(kind='barh')\n",
    "plt.show()"
   ]
  },
  {
   "cell_type": "markdown",
   "metadata": {},
   "source": [
    "The data tells us quite a different story than our initial thought process, single people are the more likely to subscribe to a term deposit. "
   ]
  },
  {
   "cell_type": "markdown",
   "metadata": {},
   "source": [
    "#### Numerical Features"
   ]
  },
  {
   "cell_type": "markdown",
   "metadata": {},
   "source": [
    "#### Univariate Analysis - Boxplots\n",
    "\n",
    "Boxplot can be used to see the spread of the numerical variables, and identify outliers"
   ]
  },
  {
   "cell_type": "code",
   "execution_count": 25,
   "metadata": {},
   "outputs": [
    {
     "data": {
      "image/png": "[encoded data removed]",
      "text/plain": [
       "<Figure size 576x1008 with 7 Axes>"
      ]
     },
     "metadata": {
      "needs_background": "light"
     },
     "output_type": "display_data"
    }
   ],
   "source": [
    "plt.figure(figsize=(8,14))\n",
    "for i,feature in enumerate(num_feature):\n",
    "    data = train.copy()\n",
    "    plt.subplot(7,1,i+1)\n",
    "    plt.tight_layout()\n",
    "    sns.boxplot(data[feature])\n",
    "    plt.title(feature)"
   ]
  },
  {
   "cell_type": "markdown",
   "metadata": {},
   "source": [
    "#### Univariate Analysis - Density Plots\n",
    "\n",
    "A kernel density estimate (KDE) plot is a method for visualizing the distribution of observations in a dataset, analagous to a histogram. KDE represents the data using a continuous probability density curve in one or more dimensions.\n"
   ]
  },
  {
   "cell_type": "code",
   "execution_count": 26,
   "metadata": {},
   "outputs": [
    {
     "data": {
      "image/png": "[encoded data removed]",
      "text/plain": [
       "<Figure size 720x720 with 7 Axes>"
      ]
     },
     "metadata": {
      "needs_background": "light"
     },
     "output_type": "display_data"
    }
   ],
   "source": [
    "plt.figure(figsize=(10,10))\n",
    "for i,feature in enumerate(num_feature):\n",
    "    data = train.copy()\n",
    "    plt.subplot(4,2,i+1)\n",
    "    sns.kdeplot(data[feature])\n",
    "    plt.xlabel(feature)\n",
    "    plt.ylabel('Density')\n",
    "plt.tight_layout()"
   ]
  },
  {
   "cell_type": "markdown",
   "metadata": {},
   "source": [
    "**Q. Do people with a higher bank balance more likely subscribe to term deposit than people with low balance ?**"
   ]
  },
  {
   "cell_type": "code",
   "execution_count": 27,
   "metadata": {},
   "outputs": [
    {
     "data": {
      "image/png": "[encoded data removed]",
      "text/plain": [
       "<Figure size 432x288 with 1 Axes>"
      ]
     },
     "metadata": {
      "needs_background": "light"
     },
     "output_type": "display_data"
    }
   ],
   "source": [
    "train.groupby(by='target')['balance'].median().plot(kind='bar',title='Median Balance')\n",
    "plt.show()"
   ]
  },
  {
   "cell_type": "markdown",
   "metadata": {},
   "source": [
    "If you see the plot above median balance of customers not subscribing to a term deposit is around 400 whereas median balance of customers subscribing to a term deposit is 800. This definitely supports our initial hypothesis."
   ]
  },
  {
   "cell_type": "markdown",
   "metadata": {},
   "source": [
    "**Q. Does the length of the call made to the customers tell us anything about their chances of subscribing ?**"
   ]
  },
  {
   "cell_type": "code",
   "execution_count": 28,
   "metadata": {},
   "outputs": [
    {
     "data": {
      "image/png": "[encoded data removed]",
      "text/plain": [
       "<Figure size 432x288 with 1 Axes>"
      ]
     },
     "metadata": {
      "needs_background": "light"
     },
     "output_type": "display_data"
    }
   ],
   "source": [
    "train.groupby(by='target')['last_contact_duration'].median().plot(kind='bar',title='Median last call duration')\n",
    "plt.show()"
   ]
  },
  {
   "cell_type": "markdown",
   "metadata": {},
   "source": [
    "From the plot above median last_call_duration made to the customers not subscribing to a term deposit is around 150 seconds. Median last_call_duration made to the customers subscribing to a term deposit is around 450 seconds. So yes our hypothesis seems true."
   ]
  },
  {
   "cell_type": "markdown",
   "metadata": {},
   "source": [
    "**Q. Are younger customers more likely to subscribe to a term deposit compared to old customers ?**\n",
    "\n",
    "It's not very clear from our above plot since we have median age of around 40 for both cases\n",
    "\n",
    "Lets dig deeper.\n",
    "\n",
    "We will define:\n",
    " old as Age > 60\n",
    " Not Old as Age <= 60"
   ]
  },
  {
   "cell_type": "code",
   "execution_count": 29,
   "metadata": {},
   "outputs": [],
   "source": [
    "train['old'] = np.where((train.customer_age>50),1,0)"
   ]
  },
  {
   "cell_type": "code",
   "execution_count": 30,
   "metadata": {},
   "outputs": [
    {
     "data": {
      "image/png": "[encoded data removed]",
      "text/plain": [
       "<Figure size 432x288 with 1 Axes>"
      ]
     },
     "metadata": {
      "needs_background": "light"
     },
     "output_type": "display_data"
    }
   ],
   "source": [
    "train.groupby(by='old')['target'].mean().plot(kind='bar',title='Probability of subscribing to a term deposit')\n",
    "plt.show()"
   ]
  },
  {
   "cell_type": "markdown",
   "metadata": {},
   "source": [
    "#### Bivariate Analysis - Correlation Heatmaps"
   ]
  },
  {
   "cell_type": "code",
   "execution_count": 31,
   "metadata": {},
   "outputs": [
    {
     "data": {
      "image/png": "[encoded data removed]",
      "text/plain": [
       "<Figure size 432x288 with 2 Axes>"
      ]
     },
     "metadata": {
      "needs_background": "light"
     },
     "output_type": "display_data"
    }
   ],
   "source": [
    "sns.heatmap(train[num_feature].corr(),annot=True)\n",
    "plt.show()"
   ]
  },
  {
   "cell_type": "markdown",
   "metadata": {},
   "source": [
    "### Baseline Models"
   ]
  },
  {
   "cell_type": "markdown",
   "metadata": {},
   "source": [
    "#### Model A (Predicting all instances as majority)"
   ]
  },
  {
   "cell_type": "code",
   "execution_count": 32,
   "metadata": {},
   "outputs": [
    {
     "data": {
      "text/plain": [
       "0    28253\n",
       "1     3394\n",
       "Name: target, dtype: int64"
      ]
     },
     "execution_count": 32,
     "metadata": {},
     "output_type": "execute_result"
    }
   ],
   "source": [
    "train.target.value_counts()"
   ]
  },
  {
   "cell_type": "markdown",
   "metadata": {},
   "source": [
    "As we saw before too, 0 is the majority class. Lets begin by predicting everything as 0."
   ]
  },
  {
   "cell_type": "code",
   "execution_count": 33,
   "metadata": {},
   "outputs": [
    {
     "name": "stdout",
     "output_type": "stream",
     "text": [
      "Accuracy Score is 0.892754447498973\n",
      "F1 Score is 0.0\n"
     ]
    }
   ],
   "source": [
    "pred_train = np.zeros(len(train))\n",
    "\n",
    "accuracy = accuracy_score(train.target,pred_train)\n",
    "f1 = f1_score(train.target,pred_train)\n",
    "\n",
    "print('Accuracy Score is',accuracy)\n",
    "print('F1 Score is',f1)"
   ]
  },
  {
   "cell_type": "markdown",
   "metadata": {},
   "source": [
    "Had the metric been accuracy, we would have got an accuracy of almost 90 %, but F1-score is forcing us to create a better model."
   ]
  },
  {
   "cell_type": "markdown",
   "metadata": {},
   "source": [
    "#### Model B (Random Predictions with equal probability)"
   ]
  },
  {
   "cell_type": "code",
   "execution_count": 34,
   "metadata": {},
   "outputs": [
    {
     "data": {
      "text/plain": [
       "0.1767384105960265"
      ]
     },
     "execution_count": 34,
     "metadata": {},
     "output_type": "execute_result"
    }
   ],
   "source": [
    "np.random.seed(2)\n",
    "\n",
    "pred_train = np.random.choice([0,1],size=len(train))\n",
    "\n",
    "f1_score(train.target,pred_train)"
   ]
  },
  {
   "cell_type": "code",
   "execution_count": 35,
   "metadata": {},
   "outputs": [],
   "source": [
    "np.random.seed(2)\n",
    "\n",
    "pred_test = np.random.choice([0,1],size=len(test))\n",
    "\n",
    "sample_sub['term_deposit_subscribed'] = pred_test"
   ]
  },
  {
   "cell_type": "markdown",
   "metadata": {},
   "source": [
    "Not an excellent score. Nevertheless it is much better than getting 0."
   ]
  },
  {
   "cell_type": "code",
   "execution_count": 36,
   "metadata": {},
   "outputs": [],
   "source": [
    "#sample_sub.to_csv('Submission_test.csv',index=False)"
   ]
  },
  {
   "cell_type": "markdown",
   "metadata": {},
   "source": [
    "### Feature Engineering"
   ]
  },
  {
   "cell_type": "code",
   "execution_count": 37,
   "metadata": {},
   "outputs": [],
   "source": [
    "# droping the old column \n",
    "train.drop(columns='old',inplace=True)"
   ]
  },
  {
   "cell_type": "code",
   "execution_count": 38,
   "metadata": {},
   "outputs": [],
   "source": [
    "# Appending the train and test date for featuring engineering\n",
    "data = train.append(test)"
   ]
  },
  {
   "cell_type": "code",
   "execution_count": 39,
   "metadata": {},
   "outputs": [
    {
     "data": {
      "text/html": [
       "<div>\n",
       "<style scoped>\n",
       "    .dataframe tbody tr th:only-of-type {\n",
       "        vertical-align: middle;\n",
       "    }\n",
       "\n",
       "    .dataframe tbody tr th {\n",
       "        vertical-align: top;\n",
       "    }\n",
       "\n",
       "    .dataframe thead th {\n",
       "        text-align: right;\n",
       "    }\n",
       "</style>\n",
       "<table border=\"1\" class=\"dataframe\">\n",
       "  <thead>\n",
       "    <tr style=\"text-align: right;\">\n",
       "      <th></th>\n",
       "      <th>Median</th>\n",
       "      <th>Mean</th>\n",
       "      <th>Std</th>\n",
       "      <th>Var</th>\n",
       "      <th>CV</th>\n",
       "      <th>Min</th>\n",
       "      <th>P1</th>\n",
       "      <th>P5</th>\n",
       "      <th>Q1</th>\n",
       "      <th>Q2</th>\n",
       "      <th>Q3</th>\n",
       "      <th>P95</th>\n",
       "      <th>P99</th>\n",
       "      <th>Max</th>\n",
       "    </tr>\n",
       "  </thead>\n",
       "  <tbody>\n",
       "    <tr>\n",
       "      <th>balance</th>\n",
       "      <td>448.0</td>\n",
       "      <td>1360.104255</td>\n",
       "      <td>3013.771829</td>\n",
       "      <td>9.082821e+06</td>\n",
       "      <td>2.215839</td>\n",
       "      <td>-8020.0</td>\n",
       "      <td>-630.00</td>\n",
       "      <td>-173.5</td>\n",
       "      <td>71.0</td>\n",
       "      <td>448.0</td>\n",
       "      <td>1427.0</td>\n",
       "      <td>5765.0</td>\n",
       "      <td>13164.10</td>\n",
       "      <td>102128.0</td>\n",
       "    </tr>\n",
       "    <tr>\n",
       "      <th>customer_age</th>\n",
       "      <td>39.0</td>\n",
       "      <td>40.442579</td>\n",
       "      <td>10.750219</td>\n",
       "      <td>1.155672e+02</td>\n",
       "      <td>0.265814</td>\n",
       "      <td>18.0</td>\n",
       "      <td>22.00</td>\n",
       "      <td>26.0</td>\n",
       "      <td>32.0</td>\n",
       "      <td>39.0</td>\n",
       "      <td>48.0</td>\n",
       "      <td>59.0</td>\n",
       "      <td>71.00</td>\n",
       "      <td>97.0</td>\n",
       "    </tr>\n",
       "    <tr>\n",
       "      <th>day_of_month</th>\n",
       "      <td>16.0</td>\n",
       "      <td>15.806419</td>\n",
       "      <td>8.322476</td>\n",
       "      <td>6.926361e+01</td>\n",
       "      <td>0.526525</td>\n",
       "      <td>1.0</td>\n",
       "      <td>2.00</td>\n",
       "      <td>3.0</td>\n",
       "      <td>8.0</td>\n",
       "      <td>16.0</td>\n",
       "      <td>21.0</td>\n",
       "      <td>29.0</td>\n",
       "      <td>31.00</td>\n",
       "      <td>31.0</td>\n",
       "    </tr>\n",
       "    <tr>\n",
       "      <th>days_since_prev_campaign_contact</th>\n",
       "      <td>194.0</td>\n",
       "      <td>224.577692</td>\n",
       "      <td>115.344035</td>\n",
       "      <td>1.330425e+04</td>\n",
       "      <td>0.513604</td>\n",
       "      <td>1.0</td>\n",
       "      <td>7.56</td>\n",
       "      <td>79.0</td>\n",
       "      <td>133.0</td>\n",
       "      <td>194.0</td>\n",
       "      <td>327.0</td>\n",
       "      <td>370.0</td>\n",
       "      <td>531.44</td>\n",
       "      <td>871.0</td>\n",
       "    </tr>\n",
       "    <tr>\n",
       "      <th>last_contact_duration</th>\n",
       "      <td>180.0</td>\n",
       "      <td>257.681093</td>\n",
       "      <td>257.704129</td>\n",
       "      <td>6.641142e+04</td>\n",
       "      <td>1.000089</td>\n",
       "      <td>0.0</td>\n",
       "      <td>5.00</td>\n",
       "      <td>34.0</td>\n",
       "      <td>102.0</td>\n",
       "      <td>180.0</td>\n",
       "      <td>319.0</td>\n",
       "      <td>752.0</td>\n",
       "      <td>1266.23</td>\n",
       "      <td>4900.0</td>\n",
       "    </tr>\n",
       "    <tr>\n",
       "      <th>num_contacts_in_campaign</th>\n",
       "      <td>2.0</td>\n",
       "      <td>2.762929</td>\n",
       "      <td>3.091258</td>\n",
       "      <td>9.555875e+00</td>\n",
       "      <td>1.118834</td>\n",
       "      <td>1.0</td>\n",
       "      <td>1.00</td>\n",
       "      <td>1.0</td>\n",
       "      <td>1.0</td>\n",
       "      <td>2.0</td>\n",
       "      <td>3.0</td>\n",
       "      <td>8.0</td>\n",
       "      <td>16.00</td>\n",
       "      <td>63.0</td>\n",
       "    </tr>\n",
       "    <tr>\n",
       "      <th>num_contacts_prev_campaign</th>\n",
       "      <td>0.0</td>\n",
       "      <td>0.580323</td>\n",
       "      <td>2.303441</td>\n",
       "      <td>5.305841e+00</td>\n",
       "      <td>3.969237</td>\n",
       "      <td>0.0</td>\n",
       "      <td>0.00</td>\n",
       "      <td>0.0</td>\n",
       "      <td>0.0</td>\n",
       "      <td>0.0</td>\n",
       "      <td>0.0</td>\n",
       "      <td>3.0</td>\n",
       "      <td>8.90</td>\n",
       "      <td>275.0</td>\n",
       "    </tr>\n",
       "  </tbody>\n",
       "</table>\n",
       "</div>"
      ],
      "text/plain": [
       "                                  Median         Mean          Std  \\\n",
       "balance                            448.0  1360.104255  3013.771829   \n",
       "customer_age                        39.0    40.442579    10.750219   \n",
       "day_of_month                        16.0    15.806419     8.322476   \n",
       "days_since_prev_campaign_contact   194.0   224.577692   115.344035   \n",
       "last_contact_duration              180.0   257.681093   257.704129   \n",
       "num_contacts_in_campaign             2.0     2.762929     3.091258   \n",
       "num_contacts_prev_campaign           0.0     0.580323     2.303441   \n",
       "\n",
       "                                           Var        CV     Min      P1  \\\n",
       "balance                           9.082821e+06  2.215839 -8020.0 -630.00   \n",
       "customer_age                      1.155672e+02  0.265814    18.0   22.00   \n",
       "day_of_month                      6.926361e+01  0.526525     1.0    2.00   \n",
       "days_since_prev_campaign_contact  1.330425e+04  0.513604     1.0    7.56   \n",
       "last_contact_duration             6.641142e+04  1.000089     0.0    5.00   \n",
       "num_contacts_in_campaign          9.555875e+00  1.118834     1.0    1.00   \n",
       "num_contacts_prev_campaign        5.305841e+00  3.969237     0.0    0.00   \n",
       "\n",
       "                                     P5     Q1     Q2      Q3     P95  \\\n",
       "balance                          -173.5   71.0  448.0  1427.0  5765.0   \n",
       "customer_age                       26.0   32.0   39.0    48.0    59.0   \n",
       "day_of_month                        3.0    8.0   16.0    21.0    29.0   \n",
       "days_since_prev_campaign_contact   79.0  133.0  194.0   327.0   370.0   \n",
       "last_contact_duration              34.0  102.0  180.0   319.0   752.0   \n",
       "num_contacts_in_campaign            1.0    1.0    2.0     3.0     8.0   \n",
       "num_contacts_prev_campaign          0.0    0.0    0.0     0.0     3.0   \n",
       "\n",
       "                                       P99       Max  \n",
       "balance                           13164.10  102128.0  \n",
       "customer_age                         71.00      97.0  \n",
       "day_of_month                         31.00      31.0  \n",
       "days_since_prev_campaign_contact    531.44     871.0  \n",
       "last_contact_duration              1266.23    4900.0  \n",
       "num_contacts_in_campaign             16.00      63.0  \n",
       "num_contacts_prev_campaign            8.90     275.0  "
      ]
     },
     "execution_count": 39,
     "metadata": {},
     "output_type": "execute_result"
    }
   ],
   "source": [
    "def var_summary(x):\n",
    "    return pd.Series([x.median(),x.mean(),x.std(),x.var(),x.std()/x.mean(),x.min(),x.dropna().quantile(0.01),x.dropna().quantile(0.05),x.dropna().quantile(0.25),x.dropna().quantile(0.50),x.dropna().quantile(0.75),x.dropna().quantile(0.95),x.dropna().quantile(0.99),x.max()],\n",
    "                    index=['Median','Mean','Std','Var','CV','Min','P1','P5','Q1','Q2','Q3','P95','P99','Max'])\n",
    "\n",
    "num_summary = data[num_feature].apply(var_summary).T\n",
    "\n",
    "# Exploring numerical Variable\n",
    "num_summary"
   ]
  },
  {
   "cell_type": "markdown",
   "metadata": {},
   "source": [
    "#### Removing columns with high null values "
   ]
  },
  {
   "cell_type": "code",
   "execution_count": 40,
   "metadata": {},
   "outputs": [],
   "source": [
    "data.drop(columns=['days_since_prev_campaign_contact'],inplace=True)"
   ]
  },
  {
   "cell_type": "code",
   "execution_count": 41,
   "metadata": {},
   "outputs": [
    {
     "data": {
      "text/html": [
       "<div>\n",
       "<style scoped>\n",
       "    .dataframe tbody tr th:only-of-type {\n",
       "        vertical-align: middle;\n",
       "    }\n",
       "\n",
       "    .dataframe tbody tr th {\n",
       "        vertical-align: top;\n",
       "    }\n",
       "\n",
       "    .dataframe thead th {\n",
       "        text-align: right;\n",
       "    }\n",
       "</style>\n",
       "<table border=\"1\" class=\"dataframe\">\n",
       "  <thead>\n",
       "    <tr style=\"text-align: right;\">\n",
       "      <th></th>\n",
       "      <th>id</th>\n",
       "      <th>customer_age</th>\n",
       "      <th>job_type</th>\n",
       "      <th>marital</th>\n",
       "      <th>education</th>\n",
       "      <th>default</th>\n",
       "      <th>balance</th>\n",
       "      <th>housing_loan</th>\n",
       "      <th>personal_loan</th>\n",
       "      <th>communication_type</th>\n",
       "      <th>day_of_month</th>\n",
       "      <th>month</th>\n",
       "      <th>last_contact_duration</th>\n",
       "      <th>num_contacts_in_campaign</th>\n",
       "      <th>num_contacts_prev_campaign</th>\n",
       "      <th>prev_campaign_outcome</th>\n",
       "      <th>target</th>\n",
       "    </tr>\n",
       "  </thead>\n",
       "  <tbody>\n",
       "    <tr>\n",
       "      <th>0</th>\n",
       "      <td>id_43823</td>\n",
       "      <td>28.0</td>\n",
       "      <td>management</td>\n",
       "      <td>single</td>\n",
       "      <td>tertiary</td>\n",
       "      <td>no</td>\n",
       "      <td>285.0</td>\n",
       "      <td>yes</td>\n",
       "      <td>no</td>\n",
       "      <td>unknown</td>\n",
       "      <td>26</td>\n",
       "      <td>jun</td>\n",
       "      <td>303.0</td>\n",
       "      <td>4.0</td>\n",
       "      <td>0</td>\n",
       "      <td>unknown</td>\n",
       "      <td>0.0</td>\n",
       "    </tr>\n",
       "    <tr>\n",
       "      <th>1</th>\n",
       "      <td>id_32289</td>\n",
       "      <td>34.0</td>\n",
       "      <td>blue-collar</td>\n",
       "      <td>married</td>\n",
       "      <td>secondary</td>\n",
       "      <td>no</td>\n",
       "      <td>934.0</td>\n",
       "      <td>no</td>\n",
       "      <td>yes</td>\n",
       "      <td>cellular</td>\n",
       "      <td>18</td>\n",
       "      <td>nov</td>\n",
       "      <td>143.0</td>\n",
       "      <td>2.0</td>\n",
       "      <td>1</td>\n",
       "      <td>other</td>\n",
       "      <td>0.0</td>\n",
       "    </tr>\n",
       "    <tr>\n",
       "      <th>2</th>\n",
       "      <td>id_10523</td>\n",
       "      <td>46.0</td>\n",
       "      <td>technician</td>\n",
       "      <td>married</td>\n",
       "      <td>secondary</td>\n",
       "      <td>no</td>\n",
       "      <td>656.0</td>\n",
       "      <td>no</td>\n",
       "      <td>no</td>\n",
       "      <td>cellular</td>\n",
       "      <td>5</td>\n",
       "      <td>feb</td>\n",
       "      <td>101.0</td>\n",
       "      <td>4.0</td>\n",
       "      <td>0</td>\n",
       "      <td>unknown</td>\n",
       "      <td>0.0</td>\n",
       "    </tr>\n",
       "  </tbody>\n",
       "</table>\n",
       "</div>"
      ],
      "text/plain": [
       "         id  customer_age     job_type  marital  education default  balance  \\\n",
       "0  id_43823          28.0   management   single   tertiary      no    285.0   \n",
       "1  id_32289          34.0  blue-collar  married  secondary      no    934.0   \n",
       "2  id_10523          46.0   technician  married  secondary      no    656.0   \n",
       "\n",
       "  housing_loan personal_loan communication_type  day_of_month month  \\\n",
       "0          yes            no            unknown            26   jun   \n",
       "1           no           yes           cellular            18   nov   \n",
       "2           no            no           cellular             5   feb   \n",
       "\n",
       "   last_contact_duration  num_contacts_in_campaign  \\\n",
       "0                  303.0                       4.0   \n",
       "1                  143.0                       2.0   \n",
       "2                  101.0                       4.0   \n",
       "\n",
       "   num_contacts_prev_campaign prev_campaign_outcome  target  \n",
       "0                           0               unknown     0.0  \n",
       "1                           1                 other     0.0  \n",
       "2                           0               unknown     0.0  "
      ]
     },
     "execution_count": 41,
     "metadata": {},
     "output_type": "execute_result"
    }
   ],
   "source": [
    "data.head(3)"
   ]
  },
  {
   "cell_type": "markdown",
   "metadata": {},
   "source": [
    "#### Missing Value\n",
    "\n",
    "Missing data (or missing values) is defined as the data value that is not stored for a variable in the observation of interest. The problem of missing data is relatively common in almost all research and can have a significant effect on the conclusions that can be drawn from the data"
   ]
  },
  {
   "cell_type": "code",
   "execution_count": 42,
   "metadata": {},
   "outputs": [],
   "source": [
    "def miss_treat(x):\n",
    "    x = x.fillna(x.median())\n",
    "    return x"
   ]
  },
  {
   "cell_type": "code",
   "execution_count": 43,
   "metadata": {},
   "outputs": [],
   "source": [
    "# Removing column with high null values\n",
    "num_feature.remove('days_since_prev_campaign_contact')"
   ]
  },
  {
   "cell_type": "code",
   "execution_count": 44,
   "metadata": {},
   "outputs": [],
   "source": [
    "# Replacing all the null values in numerical data with median\n",
    "data[num_feature] = data[num_feature].apply(lambda x: miss_treat(x))"
   ]
  },
  {
   "cell_type": "code",
   "execution_count": 45,
   "metadata": {},
   "outputs": [],
   "source": [
    "#train[cat_feature] = train[cat_feature].apply(lambda x: miss_treat_cat(x))"
   ]
  },
  {
   "cell_type": "code",
   "execution_count": 46,
   "metadata": {},
   "outputs": [],
   "source": [
    "# Replacing all the null values in categorical data with mode\n",
    "data.marital[data.marital.isnull()] = data.marital.mode()[0]\n",
    "data.personal_loan[data.personal_loan.isnull()] = data.personal_loan.mode()[0]"
   ]
  },
  {
   "cell_type": "markdown",
   "metadata": {},
   "source": [
    "#### Outlier\n",
    "\n",
    "An outlier is an observation that lies an abnormal distance from other values in a sample from a population. In a sense, it is up to the analyst (or a consensus process) to decide what will be considered abnormal."
   ]
  },
  {
   "cell_type": "code",
   "execution_count": 48,
   "metadata": {},
   "outputs": [],
   "source": [
    "# Capping the outliers at 0.1 and 0.99 percentiles\n",
    "def outlier_treat(x):\n",
    "    x = x.clip(upper=x.quantile(0.99))\n",
    "    x = x.clip(lower=x.quantile(0.01))\n",
    "    return x\n",
    "\n",
    "data[num_feature] = data[num_feature].apply(lambda x: outlier_treat(x))"
   ]
  },
  {
   "cell_type": "markdown",
   "metadata": {},
   "source": [
    "#### Checking for the Significance of Numerical Variables\n",
    "We will check the significance through **Weight of Evidence**"
   ]
  },
  {
   "cell_type": "code",
   "execution_count": 49,
   "metadata": {},
   "outputs": [
    {
     "data": {
      "image/png": "[encoded data removed]",
      "text/plain": [
       "<Figure size 864x720 with 6 Axes>"
      ]
     },
     "metadata": {
      "needs_background": "light"
     },
     "output_type": "display_data"
    }
   ],
   "source": [
    "plt.figure(figsize=(12,10))\n",
    "for i,feature in enumerate(num_feature):\n",
    "    binned = pd.cut(data[feature],bins=10,labels=list(range(1,11)))\n",
    "    odds = data.groupby(binned)['target'].sum()/(data.groupby(binned)['target'].count()-data.groupby(binned)['target'].sum())\n",
    "    log_odds = np.log(odds)\n",
    "    #fig,axes = plt.subplots(figsize = (6,3))\n",
    "    plt.subplot(3,2,i+1)\n",
    "    plt.tight_layout()\n",
    "    sns.barplot(x=log_odds.index, y= log_odds,edgecolor='black')\n",
    "    plt.ylabel('Odds Ratio')\n",
    "    plt.xlabel(str(feature)+str(' Category'))\n",
    "    plt.title(str('Logit Plot of ') + str(feature))"
   ]
  },
  {
   "cell_type": "markdown",
   "metadata": {},
   "source": [
    "#### Checking for the Significance of Categorical Variables\n",
    "We will check the significance through **Weight of Evidence**"
   ]
  },
  {
   "cell_type": "code",
   "execution_count": 50,
   "metadata": {},
   "outputs": [
    {
     "data": {
      "image/png": "[encoded data removed]",
      "text/plain": [
       "<Figure size 864x2376 with 9 Axes>"
      ]
     },
     "metadata": {
      "needs_background": "light"
     },
     "output_type": "display_data"
    }
   ],
   "source": [
    "plt.figure(figsize=(12,33))\n",
    "for i,feature in enumerate(cat_feature):\n",
    "    odds = data.groupby(feature)['target'].sum()/(data.groupby(feature)['target'].count()-data.groupby(feature)['target'].sum())\n",
    "    log_odds = np.log(odds)\n",
    "    #fig,axes = plt.subplots(figsize=(6,3))\n",
    "    plt.subplot(10,2,i+1)\n",
    "    plt.tight_layout()\n",
    "    sns.barplot(x=log_odds.index, y=log_odds,edgecolor='black')\n",
    "    plt.ylabel('Log Odds Ratio')\n",
    "    plt.xlabel(str(feature)+str(' Category'))\n",
    "    plt.title(str('Logit plot of ') + str(feature))"
   ]
  },
  {
   "cell_type": "markdown",
   "metadata": {},
   "source": [
    "#### Encoding Categorical Variable"
   ]
  },
  {
   "cell_type": "code",
   "execution_count": 51,
   "metadata": {},
   "outputs": [
    {
     "data": {
      "text/plain": [
       "['communication_type',\n",
       " 'default',\n",
       " 'education',\n",
       " 'housing_loan',\n",
       " 'job_type',\n",
       " 'marital',\n",
       " 'month',\n",
       " 'personal_loan',\n",
       " 'prev_campaign_outcome']"
      ]
     },
     "execution_count": 51,
     "metadata": {},
     "output_type": "execute_result"
    }
   ],
   "source": [
    "cat_feature"
   ]
  },
  {
   "cell_type": "code",
   "execution_count": 52,
   "metadata": {},
   "outputs": [
    {
     "data": {
      "text/plain": [
       "array(['jun', 'nov', 'feb', 'may', 'apr', 'aug', 'jul', 'jan', 'oct',\n",
       "       'sep', 'mar', 'dec'], dtype=object)"
      ]
     },
     "execution_count": 52,
     "metadata": {},
     "output_type": "execute_result"
    }
   ],
   "source": [
    "data.month.unique()"
   ]
  },
  {
   "cell_type": "code",
   "execution_count": 53,
   "metadata": {},
   "outputs": [],
   "source": [
    "data['education'] = data.education.map({'tertiary':3, 'secondary':2, 'primary':1, 'unknown':4})"
   ]
  },
  {
   "cell_type": "code",
   "execution_count": 54,
   "metadata": {},
   "outputs": [],
   "source": [
    "dummies_col = ['communication_type', 'default', 'housing_loan',\n",
    "       'job_type', 'marital', 'month', 'personal_loan',\n",
    "       'prev_campaign_outcome']"
   ]
  },
  {
   "cell_type": "code",
   "execution_count": 55,
   "metadata": {},
   "outputs": [],
   "source": [
    "data = pd.get_dummies(columns=dummies_col,data=data,drop_first=True)"
   ]
  },
  {
   "cell_type": "code",
   "execution_count": 56,
   "metadata": {},
   "outputs": [],
   "source": [
    "# Renaming two columns - 'job_type_blue-collar' and 'job_type_self-employed'\n",
    "data.rename(columns={'job_type_blue-collar':'job_type_blue_collar','job_type_self-employed':'job_type_self_employed'},inplace=True)"
   ]
  },
  {
   "cell_type": "markdown",
   "metadata": {},
   "source": [
    "#### Dividing the data into training and testing"
   ]
  },
  {
   "cell_type": "code",
   "execution_count": 57,
   "metadata": {},
   "outputs": [],
   "source": [
    "train = data[~data.target.isnull()]\n",
    "test = data[data.target.isnull()]"
   ]
  },
  {
   "cell_type": "markdown",
   "metadata": {},
   "source": [
    "#### Scaling \n",
    "\n",
    "Feature scaling is a method used to normalize the range of independent variables or features of data. In data processing, it is also known as data normalization and is generally performed during the data preprocessing step."
   ]
  },
  {
   "cell_type": "code",
   "execution_count": 58,
   "metadata": {},
   "outputs": [],
   "source": [
    "# Deviding the train data into independent and target variables\n",
    "train_x = train[list(train.columns.difference(['id','target']))]\n",
    "train_y = train['target']"
   ]
  },
  {
   "cell_type": "code",
   "execution_count": 59,
   "metadata": {},
   "outputs": [],
   "source": [
    "from sklearn.preprocessing import StandardScaler\n",
    "\n",
    "# Scaling train_x\n",
    "scaler = StandardScaler().fit(train_x)\n",
    "x_scaled = scaler.transform(train_x)"
   ]
  },
  {
   "cell_type": "code",
   "execution_count": 60,
   "metadata": {},
   "outputs": [],
   "source": [
    "x_scaled = pd.DataFrame(x_scaled,columns=list(train_x.columns))"
   ]
  },
  {
   "cell_type": "code",
   "execution_count": 61,
   "metadata": {},
   "outputs": [],
   "source": [
    "train = pd.concat([pd.DataFrame(x_scaled),pd.DataFrame(train_y)],axis=1)"
   ]
  },
  {
   "cell_type": "code",
   "execution_count": 62,
   "metadata": {},
   "outputs": [],
   "source": [
    "# Deriving columns from test to be scaled\n",
    "test.drop(columns='target',inplace=True)\n",
    "test_x = test[list(test.columns.difference(['id']))]"
   ]
  },
  {
   "cell_type": "code",
   "execution_count": 63,
   "metadata": {},
   "outputs": [],
   "source": [
    "# Scaling test_x\n",
    "scaler = StandardScaler().fit(test_x)\n",
    "test_x_scaled = scaler.transform(test_x)"
   ]
  },
  {
   "cell_type": "code",
   "execution_count": 64,
   "metadata": {},
   "outputs": [],
   "source": [
    "test_x_scaled = pd.DataFrame(test_x_scaled,columns=list(test_x.columns))"
   ]
  },
  {
   "cell_type": "code",
   "execution_count": 65,
   "metadata": {},
   "outputs": [],
   "source": [
    "test = pd.concat([pd.DataFrame(test['id']),pd.DataFrame(test_x_scaled)],axis=1)"
   ]
  },
  {
   "cell_type": "code",
   "execution_count": 66,
   "metadata": {},
   "outputs": [
    {
     "data": {
      "text/html": [
       "<div>\n",
       "<style scoped>\n",
       "    .dataframe tbody tr th:only-of-type {\n",
       "        vertical-align: middle;\n",
       "    }\n",
       "\n",
       "    .dataframe tbody tr th {\n",
       "        vertical-align: top;\n",
       "    }\n",
       "\n",
       "    .dataframe thead th {\n",
       "        text-align: right;\n",
       "    }\n",
       "</style>\n",
       "<table border=\"1\" class=\"dataframe\">\n",
       "  <thead>\n",
       "    <tr style=\"text-align: right;\">\n",
       "      <th></th>\n",
       "      <th>id</th>\n",
       "      <th>balance</th>\n",
       "      <th>communication_type_telephone</th>\n",
       "      <th>communication_type_unknown</th>\n",
       "      <th>customer_age</th>\n",
       "      <th>day_of_month</th>\n",
       "      <th>default_yes</th>\n",
       "      <th>education</th>\n",
       "      <th>housing_loan_yes</th>\n",
       "      <th>job_type_blue_collar</th>\n",
       "      <th>job_type_entrepreneur</th>\n",
       "      <th>job_type_housemaid</th>\n",
       "      <th>job_type_management</th>\n",
       "      <th>job_type_retired</th>\n",
       "      <th>job_type_self_employed</th>\n",
       "      <th>job_type_services</th>\n",
       "      <th>job_type_student</th>\n",
       "      <th>job_type_technician</th>\n",
       "      <th>job_type_unemployed</th>\n",
       "      <th>job_type_unknown</th>\n",
       "      <th>last_contact_duration</th>\n",
       "      <th>marital_married</th>\n",
       "      <th>marital_single</th>\n",
       "      <th>month_aug</th>\n",
       "      <th>month_dec</th>\n",
       "      <th>month_feb</th>\n",
       "      <th>month_jan</th>\n",
       "      <th>month_jul</th>\n",
       "      <th>month_jun</th>\n",
       "      <th>month_mar</th>\n",
       "      <th>month_may</th>\n",
       "      <th>month_nov</th>\n",
       "      <th>month_oct</th>\n",
       "      <th>month_sep</th>\n",
       "      <th>num_contacts_in_campaign</th>\n",
       "      <th>num_contacts_prev_campaign</th>\n",
       "      <th>personal_loan_yes</th>\n",
       "      <th>prev_campaign_outcome_other</th>\n",
       "      <th>prev_campaign_outcome_success</th>\n",
       "      <th>prev_campaign_outcome_unknown</th>\n",
       "    </tr>\n",
       "  </thead>\n",
       "  <tbody>\n",
       "    <tr>\n",
       "      <th>0</th>\n",
       "      <td>id_17231</td>\n",
       "      <td>2.661822</td>\n",
       "      <td>-0.264995</td>\n",
       "      <td>-0.631721</td>\n",
       "      <td>1.403157</td>\n",
       "      <td>-0.335069</td>\n",
       "      <td>-0.140343</td>\n",
       "      <td>1.034576</td>\n",
       "      <td>-1.100582</td>\n",
       "      <td>-0.523311</td>\n",
       "      <td>-0.185242</td>\n",
       "      <td>-0.162031</td>\n",
       "      <td>-0.509108</td>\n",
       "      <td>4.376589</td>\n",
       "      <td>-0.18904</td>\n",
       "      <td>-0.315933</td>\n",
       "      <td>-0.143853</td>\n",
       "      <td>-0.460954</td>\n",
       "      <td>-0.174764</td>\n",
       "      <td>-0.08127</td>\n",
       "      <td>-0.704201</td>\n",
       "      <td>0.808294</td>\n",
       "      <td>-0.631721</td>\n",
       "      <td>2.448542</td>\n",
       "      <td>-0.065532</td>\n",
       "      <td>-0.252507</td>\n",
       "      <td>-0.185242</td>\n",
       "      <td>-0.429082</td>\n",
       "      <td>-0.365049</td>\n",
       "      <td>-0.101754</td>\n",
       "      <td>-0.656010</td>\n",
       "      <td>-0.307103</td>\n",
       "      <td>-0.130754</td>\n",
       "      <td>-0.109944</td>\n",
       "      <td>-0.264219</td>\n",
       "      <td>-0.357751</td>\n",
       "      <td>-0.437125</td>\n",
       "      <td>-0.209059</td>\n",
       "      <td>-0.183317</td>\n",
       "      <td>0.468109</td>\n",
       "    </tr>\n",
       "    <tr>\n",
       "      <th>1</th>\n",
       "      <td>id_34508</td>\n",
       "      <td>-0.490222</td>\n",
       "      <td>-0.264995</td>\n",
       "      <td>-0.631721</td>\n",
       "      <td>-1.571229</td>\n",
       "      <td>0.266598</td>\n",
       "      <td>-0.140343</td>\n",
       "      <td>-0.299612</td>\n",
       "      <td>0.908610</td>\n",
       "      <td>1.910910</td>\n",
       "      <td>-0.185242</td>\n",
       "      <td>-0.162031</td>\n",
       "      <td>-0.509108</td>\n",
       "      <td>-0.228488</td>\n",
       "      <td>-0.18904</td>\n",
       "      <td>-0.315933</td>\n",
       "      <td>-0.143853</td>\n",
       "      <td>-0.460954</td>\n",
       "      <td>-0.174764</td>\n",
       "      <td>-0.08127</td>\n",
       "      <td>-0.818459</td>\n",
       "      <td>-1.237173</td>\n",
       "      <td>1.582977</td>\n",
       "      <td>-0.408406</td>\n",
       "      <td>-0.065532</td>\n",
       "      <td>-0.252507</td>\n",
       "      <td>-0.185242</td>\n",
       "      <td>-0.429082</td>\n",
       "      <td>-0.365049</td>\n",
       "      <td>-0.101754</td>\n",
       "      <td>1.524367</td>\n",
       "      <td>-0.307103</td>\n",
       "      <td>-0.130754</td>\n",
       "      <td>-0.109944</td>\n",
       "      <td>-0.264219</td>\n",
       "      <td>-0.357751</td>\n",
       "      <td>-0.437125</td>\n",
       "      <td>-0.209059</td>\n",
       "      <td>-0.183317</td>\n",
       "      <td>0.468109</td>\n",
       "    </tr>\n",
       "    <tr>\n",
       "      <th>2</th>\n",
       "      <td>id_44504</td>\n",
       "      <td>-0.506532</td>\n",
       "      <td>-0.264995</td>\n",
       "      <td>-0.631721</td>\n",
       "      <td>0.539626</td>\n",
       "      <td>-0.936736</td>\n",
       "      <td>-0.140343</td>\n",
       "      <td>-0.299612</td>\n",
       "      <td>-1.100582</td>\n",
       "      <td>-0.523311</td>\n",
       "      <td>-0.185242</td>\n",
       "      <td>-0.162031</td>\n",
       "      <td>-0.509108</td>\n",
       "      <td>-0.228488</td>\n",
       "      <td>-0.18904</td>\n",
       "      <td>-0.315933</td>\n",
       "      <td>-0.143853</td>\n",
       "      <td>2.169413</td>\n",
       "      <td>-0.174764</td>\n",
       "      <td>-0.08127</td>\n",
       "      <td>-0.204854</td>\n",
       "      <td>-1.237173</td>\n",
       "      <td>-0.631721</td>\n",
       "      <td>-0.408406</td>\n",
       "      <td>-0.065532</td>\n",
       "      <td>-0.252507</td>\n",
       "      <td>-0.185242</td>\n",
       "      <td>2.330554</td>\n",
       "      <td>-0.365049</td>\n",
       "      <td>-0.101754</td>\n",
       "      <td>-0.656010</td>\n",
       "      <td>-0.307103</td>\n",
       "      <td>-0.130754</td>\n",
       "      <td>-0.109944</td>\n",
       "      <td>-0.658398</td>\n",
       "      <td>-0.357751</td>\n",
       "      <td>-0.437125</td>\n",
       "      <td>-0.209059</td>\n",
       "      <td>-0.183317</td>\n",
       "      <td>0.468109</td>\n",
       "    </tr>\n",
       "  </tbody>\n",
       "</table>\n",
       "</div>"
      ],
      "text/plain": [
       "         id   balance  communication_type_telephone  \\\n",
       "0  id_17231  2.661822                     -0.264995   \n",
       "1  id_34508 -0.490222                     -0.264995   \n",
       "2  id_44504 -0.506532                     -0.264995   \n",
       "\n",
       "   communication_type_unknown  customer_age  day_of_month  default_yes  \\\n",
       "0                   -0.631721      1.403157     -0.335069    -0.140343   \n",
       "1                   -0.631721     -1.571229      0.266598    -0.140343   \n",
       "2                   -0.631721      0.539626     -0.936736    -0.140343   \n",
       "\n",
       "   education  housing_loan_yes  job_type_blue_collar  job_type_entrepreneur  \\\n",
       "0   1.034576         -1.100582             -0.523311              -0.185242   \n",
       "1  -0.299612          0.908610              1.910910              -0.185242   \n",
       "2  -0.299612         -1.100582             -0.523311              -0.185242   \n",
       "\n",
       "   job_type_housemaid  job_type_management  job_type_retired  \\\n",
       "0           -0.162031            -0.509108          4.376589   \n",
       "1           -0.162031            -0.509108         -0.228488   \n",
       "2           -0.162031            -0.509108         -0.228488   \n",
       "\n",
       "   job_type_self_employed  job_type_services  job_type_student  \\\n",
       "0                -0.18904          -0.315933         -0.143853   \n",
       "1                -0.18904          -0.315933         -0.143853   \n",
       "2                -0.18904          -0.315933         -0.143853   \n",
       "\n",
       "   job_type_technician  job_type_unemployed  job_type_unknown  \\\n",
       "0            -0.460954            -0.174764          -0.08127   \n",
       "1            -0.460954            -0.174764          -0.08127   \n",
       "2             2.169413            -0.174764          -0.08127   \n",
       "\n",
       "   last_contact_duration  marital_married  marital_single  month_aug  \\\n",
       "0              -0.704201         0.808294       -0.631721   2.448542   \n",
       "1              -0.818459        -1.237173        1.582977  -0.408406   \n",
       "2              -0.204854        -1.237173       -0.631721  -0.408406   \n",
       "\n",
       "   month_dec  month_feb  month_jan  month_jul  month_jun  month_mar  \\\n",
       "0  -0.065532  -0.252507  -0.185242  -0.429082  -0.365049  -0.101754   \n",
       "1  -0.065532  -0.252507  -0.185242  -0.429082  -0.365049  -0.101754   \n",
       "2  -0.065532  -0.252507  -0.185242   2.330554  -0.365049  -0.101754   \n",
       "\n",
       "   month_may  month_nov  month_oct  month_sep  num_contacts_in_campaign  \\\n",
       "0  -0.656010  -0.307103  -0.130754  -0.109944                 -0.264219   \n",
       "1   1.524367  -0.307103  -0.130754  -0.109944                 -0.264219   \n",
       "2  -0.656010  -0.307103  -0.130754  -0.109944                 -0.658398   \n",
       "\n",
       "   num_contacts_prev_campaign  personal_loan_yes  prev_campaign_outcome_other  \\\n",
       "0                   -0.357751          -0.437125                    -0.209059   \n",
       "1                   -0.357751          -0.437125                    -0.209059   \n",
       "2                   -0.357751          -0.437125                    -0.209059   \n",
       "\n",
       "   prev_campaign_outcome_success  prev_campaign_outcome_unknown  \n",
       "0                      -0.183317                       0.468109  \n",
       "1                      -0.183317                       0.468109  \n",
       "2                      -0.183317                       0.468109  "
      ]
     },
     "execution_count": 66,
     "metadata": {},
     "output_type": "execute_result"
    }
   ],
   "source": [
    "test.head(3)"
   ]
  },
  {
   "cell_type": "code",
   "execution_count": 67,
   "metadata": {},
   "outputs": [],
   "source": [
    "clf = LogisticRegression(random_state = 1)\n",
    "clf.fit(x_scaled, train_y)\n",
    "\n",
    "pred_train = clf.predict(x_scaled)"
   ]
  },
  {
   "cell_type": "code",
   "execution_count": 68,
   "metadata": {},
   "outputs": [
    {
     "data": {
      "text/plain": [
       "0.5079941860465117"
      ]
     },
     "execution_count": 68,
     "metadata": {},
     "output_type": "execute_result"
    }
   ],
   "source": [
    "f1_score(train_y, pred_train)"
   ]
  },
  {
   "cell_type": "markdown",
   "metadata": {},
   "source": [
    "#### Variable reduction using Somers' D"
   ]
  },
  {
   "cell_type": "code",
   "execution_count": 69,
   "metadata": {},
   "outputs": [],
   "source": [
    "import statsmodels.formula.api as sm\n",
    "from sklearn import metrics"
   ]
  },
  {
   "cell_type": "code",
   "execution_count": 70,
   "metadata": {},
   "outputs": [],
   "source": [
    "#train.rename(columns={'job_type_blue-collar':'job_type_blue_collar','job_type_self-employed':'job_type_self_employed'},inplace=True)"
   ]
  },
  {
   "cell_type": "code",
   "execution_count": 71,
   "metadata": {},
   "outputs": [
    {
     "name": "stdout",
     "output_type": "stream",
     "text": [
      "Optimization terminated successfully.\n",
      "         Current function value: 0.338812\n",
      "         Iterations 6\n",
      "Optimization terminated successfully.\n",
      "         Current function value: 0.340572\n",
      "         Iterations 6\n",
      "Optimization terminated successfully.\n",
      "         Current function value: 0.327713\n",
      "         Iterations 7\n",
      "Optimization terminated successfully.\n",
      "         Current function value: 0.340366\n",
      "         Iterations 6\n",
      "Optimization terminated successfully.\n",
      "         Current function value: 0.340366\n",
      "         Iterations 6\n",
      "Optimization terminated successfully.\n",
      "         Current function value: 0.340492\n",
      "         Iterations 7\n",
      "Optimization terminated successfully.\n",
      "         Current function value: 0.338605\n",
      "         Iterations 6\n",
      "Optimization terminated successfully.\n",
      "         Current function value: 0.330288\n",
      "         Iterations 7\n",
      "Optimization terminated successfully.\n",
      "         Current function value: 0.338087\n",
      "         Iterations 7\n",
      "Optimization terminated successfully.\n",
      "         Current function value: 0.340491\n",
      "         Iterations 6\n",
      "Optimization terminated successfully.\n",
      "         Current function value: 0.340611\n",
      "         Iterations 6\n",
      "Optimization terminated successfully.\n",
      "         Current function value: 0.340206\n",
      "         Iterations 6\n",
      "Optimization terminated successfully.\n",
      "         Current function value: 0.338029\n",
      "         Iterations 6\n",
      "Optimization terminated successfully.\n",
      "         Current function value: 0.340700\n",
      "         Iterations 6\n",
      "Optimization terminated successfully.\n",
      "         Current function value: 0.340260\n",
      "         Iterations 6\n",
      "Optimization terminated successfully.\n",
      "         Current function value: 0.338511\n",
      "         Iterations 6\n",
      "Optimization terminated successfully.\n",
      "         Current function value: 0.340653\n",
      "         Iterations 6\n",
      "Optimization terminated successfully.\n",
      "         Current function value: 0.340427\n",
      "         Iterations 6\n",
      "Optimization terminated successfully.\n",
      "         Current function value: 0.340707\n",
      "         Iterations 6\n",
      "Optimization terminated successfully.\n",
      "         Current function value: 0.274862\n",
      "         Iterations 7\n",
      "Optimization terminated successfully.\n",
      "         Current function value: 0.339121\n",
      "         Iterations 6\n",
      "Optimization terminated successfully.\n",
      "         Current function value: 0.338818\n",
      "         Iterations 6\n",
      "Optimization terminated successfully.\n",
      "         Current function value: 0.340617\n",
      "         Iterations 6\n",
      "Optimization terminated successfully.\n",
      "         Current function value: 0.338723\n",
      "         Iterations 6\n",
      "Optimization terminated successfully.\n",
      "         Current function value: 0.340066\n",
      "         Iterations 6\n",
      "Optimization terminated successfully.\n",
      "         Current function value: 0.340640\n",
      "         Iterations 6\n",
      "Optimization terminated successfully.\n",
      "         Current function value: 0.339955\n",
      "         Iterations 6\n",
      "Optimization terminated successfully.\n",
      "         Current function value: 0.340632\n",
      "         Iterations 6\n",
      "Optimization terminated successfully.\n",
      "         Current function value: 0.335151\n",
      "         Iterations 6\n",
      "Optimization terminated successfully.\n",
      "         Current function value: 0.334947\n",
      "         Iterations 7\n",
      "Optimization terminated successfully.\n",
      "         Current function value: 0.340613\n",
      "         Iterations 6\n",
      "Optimization terminated successfully.\n",
      "         Current function value: 0.335148\n",
      "         Iterations 6\n",
      "Optimization terminated successfully.\n",
      "         Current function value: 0.335150\n",
      "         Iterations 6\n",
      "Optimization terminated successfully.\n",
      "         Current function value: 0.337058\n",
      "         Iterations 7\n",
      "Optimization terminated successfully.\n",
      "         Current function value: 0.332740\n",
      "         Iterations 6\n",
      "Optimization terminated successfully.\n",
      "         Current function value: 0.338250\n",
      "         Iterations 7\n",
      "Optimization terminated successfully.\n",
      "         Current function value: 0.340414\n",
      "         Iterations 6\n",
      "Optimization terminated successfully.\n",
      "         Current function value: 0.308715\n",
      "         Iterations 6\n",
      "Optimization terminated successfully.\n",
      "         Current function value: 0.327589\n",
      "         Iterations 6\n"
     ]
    }
   ],
   "source": [
    "somerd_df = pd.DataFrame()\n",
    "for feature in train.columns.difference(['target','id']):\n",
    "    log_reg = sm.logit(formula=str('target~')+str(feature), data=train)\n",
    "    result = log_reg.fit()\n",
    "    y_score = pd.DataFrame(result.predict())\n",
    "    y_score.columns = ['Score']\n",
    "    somers_d = 2*metrics.roc_auc_score(train['target'],y_score)-1\n",
    "    temp = pd.DataFrame([feature,somers_d]).T\n",
    "    temp.columns = ['Feature Name','SomersD']\n",
    "    somerd_df = pd.concat([somerd_df,temp], axis=0)"
   ]
  },
  {
   "cell_type": "code",
   "execution_count": 72,
   "metadata": {},
   "outputs": [
    {
     "data": {
      "text/html": [
       "<div>\n",
       "<style scoped>\n",
       "    .dataframe tbody tr th:only-of-type {\n",
       "        vertical-align: middle;\n",
       "    }\n",
       "\n",
       "    .dataframe tbody tr th {\n",
       "        vertical-align: top;\n",
       "    }\n",
       "\n",
       "    .dataframe thead th {\n",
       "        text-align: right;\n",
       "    }\n",
       "</style>\n",
       "<table border=\"1\" class=\"dataframe\">\n",
       "  <thead>\n",
       "    <tr style=\"text-align: right;\">\n",
       "      <th></th>\n",
       "      <th>Feature Name</th>\n",
       "      <th>SomersD</th>\n",
       "    </tr>\n",
       "  </thead>\n",
       "  <tbody>\n",
       "    <tr>\n",
       "      <th>0</th>\n",
       "      <td>last_contact_duration</td>\n",
       "      <td>0.648495</td>\n",
       "    </tr>\n",
       "    <tr>\n",
       "      <th>0</th>\n",
       "      <td>housing_loan_yes</td>\n",
       "      <td>0.232094</td>\n",
       "    </tr>\n",
       "    <tr>\n",
       "      <th>0</th>\n",
       "      <td>num_contacts_prev_campaign</td>\n",
       "      <td>0.223943</td>\n",
       "    </tr>\n",
       "    <tr>\n",
       "      <th>0</th>\n",
       "      <td>prev_campaign_outcome_unknown</td>\n",
       "      <td>0.220618</td>\n",
       "    </tr>\n",
       "    <tr>\n",
       "      <th>0</th>\n",
       "      <td>communication_type_unknown</td>\n",
       "      <td>0.215644</td>\n",
       "    </tr>\n",
       "    <tr>\n",
       "      <th>0</th>\n",
       "      <td>prev_campaign_outcome_success</td>\n",
       "      <td>0.197111</td>\n",
       "    </tr>\n",
       "    <tr>\n",
       "      <th>0</th>\n",
       "      <td>balance</td>\n",
       "      <td>0.190208</td>\n",
       "    </tr>\n",
       "    <tr>\n",
       "      <th>0</th>\n",
       "      <td>month_may</td>\n",
       "      <td>0.152367</td>\n",
       "    </tr>\n",
       "    <tr>\n",
       "      <th>0</th>\n",
       "      <td>num_contacts_in_campaign</td>\n",
       "      <td>0.142968</td>\n",
       "    </tr>\n",
       "    <tr>\n",
       "      <th>0</th>\n",
       "      <td>education</td>\n",
       "      <td>0.117457</td>\n",
       "    </tr>\n",
       "    <tr>\n",
       "      <th>0</th>\n",
       "      <td>job_type_blue_collar</td>\n",
       "      <td>0.0917442</td>\n",
       "    </tr>\n",
       "    <tr>\n",
       "      <th>0</th>\n",
       "      <td>marital_single</td>\n",
       "      <td>0.0914605</td>\n",
       "    </tr>\n",
       "    <tr>\n",
       "      <th>0</th>\n",
       "      <td>marital_married</td>\n",
       "      <td>0.0900505</td>\n",
       "    </tr>\n",
       "    <tr>\n",
       "      <th>0</th>\n",
       "      <td>personal_loan_yes</td>\n",
       "      <td>0.0778814</td>\n",
       "    </tr>\n",
       "    <tr>\n",
       "      <th>0</th>\n",
       "      <td>job_type_retired</td>\n",
       "      <td>0.0575485</td>\n",
       "    </tr>\n",
       "    <tr>\n",
       "      <th>0</th>\n",
       "      <td>month_oct</td>\n",
       "      <td>0.0538958</td>\n",
       "    </tr>\n",
       "    <tr>\n",
       "      <th>0</th>\n",
       "      <td>day_of_month</td>\n",
       "      <td>0.0519962</td>\n",
       "    </tr>\n",
       "    <tr>\n",
       "      <th>0</th>\n",
       "      <td>month_sep</td>\n",
       "      <td>0.0495968</td>\n",
       "    </tr>\n",
       "    <tr>\n",
       "      <th>0</th>\n",
       "      <td>month_mar</td>\n",
       "      <td>0.0454622</td>\n",
       "    </tr>\n",
       "    <tr>\n",
       "      <th>0</th>\n",
       "      <td>month_jul</td>\n",
       "      <td>0.0436557</td>\n",
       "    </tr>\n",
       "  </tbody>\n",
       "</table>\n",
       "</div>"
      ],
      "text/plain": [
       "                    Feature Name    SomersD\n",
       "0          last_contact_duration   0.648495\n",
       "0               housing_loan_yes   0.232094\n",
       "0     num_contacts_prev_campaign   0.223943\n",
       "0  prev_campaign_outcome_unknown   0.220618\n",
       "0     communication_type_unknown   0.215644\n",
       "0  prev_campaign_outcome_success   0.197111\n",
       "0                        balance   0.190208\n",
       "0                      month_may   0.152367\n",
       "0       num_contacts_in_campaign   0.142968\n",
       "0                      education   0.117457\n",
       "0           job_type_blue_collar  0.0917442\n",
       "0                 marital_single  0.0914605\n",
       "0                marital_married  0.0900505\n",
       "0              personal_loan_yes  0.0778814\n",
       "0               job_type_retired  0.0575485\n",
       "0                      month_oct  0.0538958\n",
       "0                   day_of_month  0.0519962\n",
       "0                      month_sep  0.0495968\n",
       "0                      month_mar  0.0454622\n",
       "0                      month_jul  0.0436557"
      ]
     },
     "execution_count": 72,
     "metadata": {},
     "output_type": "execute_result"
    }
   ],
   "source": [
    "sd_values = somerd_df.sort_values(by='SomersD', ascending=False)\n",
    "sd_values.head()"
   ]
  },
  {
   "cell_type": "markdown",
   "metadata": {},
   "source": [
    "### Variance Inflation Factor \n",
    "We will use vif to check for multicollinearity in the data."
   ]
  },
  {
   "cell_type": "code",
   "execution_count": 73,
   "metadata": {},
   "outputs": [],
   "source": [
    "from patsy import dmatrices\n",
    "from statsmodels.stats.outliers_influence import variance_inflation_factor"
   ]
  },
  {
   "cell_type": "code",
   "execution_count": 74,
   "metadata": {},
   "outputs": [
    {
     "data": {
      "text/html": [
       "<div>\n",
       "<style scoped>\n",
       "    .dataframe tbody tr th:only-of-type {\n",
       "        vertical-align: middle;\n",
       "    }\n",
       "\n",
       "    .dataframe tbody tr th {\n",
       "        vertical-align: top;\n",
       "    }\n",
       "\n",
       "    .dataframe thead th {\n",
       "        text-align: right;\n",
       "    }\n",
       "</style>\n",
       "<table border=\"1\" class=\"dataframe\">\n",
       "  <thead>\n",
       "    <tr style=\"text-align: right;\">\n",
       "      <th></th>\n",
       "      <th>balance</th>\n",
       "      <th>communication_type_telephone</th>\n",
       "      <th>communication_type_unknown</th>\n",
       "      <th>customer_age</th>\n",
       "      <th>day_of_month</th>\n",
       "      <th>default_yes</th>\n",
       "      <th>education</th>\n",
       "      <th>housing_loan_yes</th>\n",
       "      <th>job_type_blue_collar</th>\n",
       "      <th>job_type_entrepreneur</th>\n",
       "      <th>job_type_housemaid</th>\n",
       "      <th>job_type_management</th>\n",
       "      <th>job_type_retired</th>\n",
       "      <th>job_type_self_employed</th>\n",
       "      <th>job_type_services</th>\n",
       "      <th>job_type_student</th>\n",
       "      <th>job_type_technician</th>\n",
       "      <th>job_type_unemployed</th>\n",
       "      <th>job_type_unknown</th>\n",
       "      <th>last_contact_duration</th>\n",
       "      <th>marital_married</th>\n",
       "      <th>marital_single</th>\n",
       "      <th>month_aug</th>\n",
       "      <th>month_dec</th>\n",
       "      <th>month_feb</th>\n",
       "      <th>month_jan</th>\n",
       "      <th>month_jul</th>\n",
       "      <th>month_jun</th>\n",
       "      <th>month_mar</th>\n",
       "      <th>month_may</th>\n",
       "      <th>month_nov</th>\n",
       "      <th>month_oct</th>\n",
       "      <th>month_sep</th>\n",
       "      <th>num_contacts_in_campaign</th>\n",
       "      <th>num_contacts_prev_campaign</th>\n",
       "      <th>personal_loan_yes</th>\n",
       "      <th>prev_campaign_outcome_other</th>\n",
       "      <th>prev_campaign_outcome_success</th>\n",
       "      <th>prev_campaign_outcome_unknown</th>\n",
       "      <th>target</th>\n",
       "    </tr>\n",
       "  </thead>\n",
       "  <tbody>\n",
       "    <tr>\n",
       "      <th>0</th>\n",
       "      <td>-0.438531</td>\n",
       "      <td>-0.260839</td>\n",
       "      <td>1.567900</td>\n",
       "      <td>-1.186710</td>\n",
       "      <td>1.224302</td>\n",
       "      <td>-0.13336</td>\n",
       "      <td>1.037131</td>\n",
       "      <td>0.887675</td>\n",
       "      <td>-0.523923</td>\n",
       "      <td>-0.184059</td>\n",
       "      <td>-0.170402</td>\n",
       "      <td>1.935852</td>\n",
       "      <td>-0.230075</td>\n",
       "      <td>-0.190744</td>\n",
       "      <td>-0.319001</td>\n",
       "      <td>-0.146281</td>\n",
       "      <td>-0.444438</td>\n",
       "      <td>-0.171186</td>\n",
       "      <td>-0.079548</td>\n",
       "      <td>0.220175</td>\n",
       "      <td>-1.233398</td>\n",
       "      <td>1.604090</td>\n",
       "      <td>-0.39696</td>\n",
       "      <td>-0.070383</td>\n",
       "      <td>-0.248169</td>\n",
       "      <td>-0.176206</td>\n",
       "      <td>-0.42211</td>\n",
       "      <td>2.729141</td>\n",
       "      <td>-0.103902</td>\n",
       "      <td>-0.664070</td>\n",
       "      <td>-0.311612</td>\n",
       "      <td>-0.127981</td>\n",
       "      <td>-0.115553</td>\n",
       "      <td>0.501592</td>\n",
       "      <td>-0.360850</td>\n",
       "      <td>-0.434972</td>\n",
       "      <td>-0.204638</td>\n",
       "      <td>-0.187066</td>\n",
       "      <td>0.474406</td>\n",
       "      <td>0.0</td>\n",
       "    </tr>\n",
       "    <tr>\n",
       "      <th>1</th>\n",
       "      <td>-0.149398</td>\n",
       "      <td>-0.260839</td>\n",
       "      <td>-0.637796</td>\n",
       "      <td>-0.611016</td>\n",
       "      <td>0.261613</td>\n",
       "      <td>-0.13336</td>\n",
       "      <td>-0.300962</td>\n",
       "      <td>-1.126539</td>\n",
       "      <td>1.908676</td>\n",
       "      <td>-0.184059</td>\n",
       "      <td>-0.170402</td>\n",
       "      <td>-0.516568</td>\n",
       "      <td>-0.230075</td>\n",
       "      <td>-0.190744</td>\n",
       "      <td>-0.319001</td>\n",
       "      <td>-0.146281</td>\n",
       "      <td>-0.444438</td>\n",
       "      <td>-0.171186</td>\n",
       "      <td>-0.079548</td>\n",
       "      <td>-0.467413</td>\n",
       "      <td>0.810768</td>\n",
       "      <td>-0.623406</td>\n",
       "      <td>-0.39696</td>\n",
       "      <td>-0.070383</td>\n",
       "      <td>-0.248169</td>\n",
       "      <td>-0.176206</td>\n",
       "      <td>-0.42211</td>\n",
       "      <td>-0.366416</td>\n",
       "      <td>-0.103902</td>\n",
       "      <td>-0.664070</td>\n",
       "      <td>3.209122</td>\n",
       "      <td>-0.127981</td>\n",
       "      <td>-0.115553</td>\n",
       "      <td>-0.267995</td>\n",
       "      <td>0.321856</td>\n",
       "      <td>2.299000</td>\n",
       "      <td>4.886688</td>\n",
       "      <td>-0.187066</td>\n",
       "      <td>-2.107900</td>\n",
       "      <td>0.0</td>\n",
       "    </tr>\n",
       "    <tr>\n",
       "      <th>2</th>\n",
       "      <td>-0.273248</td>\n",
       "      <td>-0.260839</td>\n",
       "      <td>-0.637796</td>\n",
       "      <td>0.540373</td>\n",
       "      <td>-1.302758</td>\n",
       "      <td>-0.13336</td>\n",
       "      <td>-0.300962</td>\n",
       "      <td>-1.126539</td>\n",
       "      <td>-0.523923</td>\n",
       "      <td>-0.184059</td>\n",
       "      <td>-0.170402</td>\n",
       "      <td>-0.516568</td>\n",
       "      <td>-0.230075</td>\n",
       "      <td>-0.190744</td>\n",
       "      <td>-0.319001</td>\n",
       "      <td>-0.146281</td>\n",
       "      <td>2.250032</td>\n",
       "      <td>-0.171186</td>\n",
       "      <td>-0.079548</td>\n",
       "      <td>-0.647905</td>\n",
       "      <td>0.810768</td>\n",
       "      <td>-0.623406</td>\n",
       "      <td>-0.39696</td>\n",
       "      <td>-0.070383</td>\n",
       "      <td>4.029507</td>\n",
       "      <td>-0.176206</td>\n",
       "      <td>-0.42211</td>\n",
       "      <td>-0.366416</td>\n",
       "      <td>-0.103902</td>\n",
       "      <td>-0.664070</td>\n",
       "      <td>-0.311612</td>\n",
       "      <td>-0.127981</td>\n",
       "      <td>-0.115553</td>\n",
       "      <td>0.501592</td>\n",
       "      <td>-0.360850</td>\n",
       "      <td>-0.434972</td>\n",
       "      <td>-0.204638</td>\n",
       "      <td>-0.187066</td>\n",
       "      <td>0.474406</td>\n",
       "      <td>0.0</td>\n",
       "    </tr>\n",
       "    <tr>\n",
       "      <th>3</th>\n",
       "      <td>-0.564609</td>\n",
       "      <td>-0.260839</td>\n",
       "      <td>1.567900</td>\n",
       "      <td>-0.611016</td>\n",
       "      <td>0.502285</td>\n",
       "      <td>-0.13336</td>\n",
       "      <td>-0.300962</td>\n",
       "      <td>0.887675</td>\n",
       "      <td>-0.523923</td>\n",
       "      <td>-0.184059</td>\n",
       "      <td>-0.170402</td>\n",
       "      <td>-0.516568</td>\n",
       "      <td>-0.230075</td>\n",
       "      <td>-0.190744</td>\n",
       "      <td>3.134787</td>\n",
       "      <td>-0.146281</td>\n",
       "      <td>-0.444438</td>\n",
       "      <td>-0.171186</td>\n",
       "      <td>-0.079548</td>\n",
       "      <td>-0.536172</td>\n",
       "      <td>-1.233398</td>\n",
       "      <td>1.604090</td>\n",
       "      <td>-0.39696</td>\n",
       "      <td>-0.070383</td>\n",
       "      <td>-0.248169</td>\n",
       "      <td>-0.176206</td>\n",
       "      <td>-0.42211</td>\n",
       "      <td>-0.366416</td>\n",
       "      <td>-0.103902</td>\n",
       "      <td>1.505865</td>\n",
       "      <td>-0.311612</td>\n",
       "      <td>-0.127981</td>\n",
       "      <td>-0.115553</td>\n",
       "      <td>0.116798</td>\n",
       "      <td>-0.360850</td>\n",
       "      <td>-0.434972</td>\n",
       "      <td>-0.204638</td>\n",
       "      <td>-0.187066</td>\n",
       "      <td>0.474406</td>\n",
       "      <td>0.0</td>\n",
       "    </tr>\n",
       "    <tr>\n",
       "      <th>4</th>\n",
       "      <td>0.036824</td>\n",
       "      <td>-0.260839</td>\n",
       "      <td>-0.637796</td>\n",
       "      <td>0.060628</td>\n",
       "      <td>-0.340069</td>\n",
       "      <td>-0.13336</td>\n",
       "      <td>-1.639055</td>\n",
       "      <td>0.887675</td>\n",
       "      <td>1.908676</td>\n",
       "      <td>-0.184059</td>\n",
       "      <td>-0.170402</td>\n",
       "      <td>-0.516568</td>\n",
       "      <td>-0.230075</td>\n",
       "      <td>-0.190744</td>\n",
       "      <td>-0.319001</td>\n",
       "      <td>-0.146281</td>\n",
       "      <td>-0.444438</td>\n",
       "      <td>-0.171186</td>\n",
       "      <td>-0.079548</td>\n",
       "      <td>-0.871372</td>\n",
       "      <td>0.810768</td>\n",
       "      <td>-0.623406</td>\n",
       "      <td>-0.39696</td>\n",
       "      <td>-0.070383</td>\n",
       "      <td>-0.248169</td>\n",
       "      <td>-0.176206</td>\n",
       "      <td>-0.42211</td>\n",
       "      <td>-0.366416</td>\n",
       "      <td>-0.103902</td>\n",
       "      <td>1.505865</td>\n",
       "      <td>-0.311612</td>\n",
       "      <td>-0.127981</td>\n",
       "      <td>-0.115553</td>\n",
       "      <td>-0.267995</td>\n",
       "      <td>-0.360850</td>\n",
       "      <td>-0.434972</td>\n",
       "      <td>-0.204638</td>\n",
       "      <td>-0.187066</td>\n",
       "      <td>0.474406</td>\n",
       "      <td>0.0</td>\n",
       "    </tr>\n",
       "  </tbody>\n",
       "</table>\n",
       "</div>"
      ],
      "text/plain": [
       "    balance  communication_type_telephone  communication_type_unknown  \\\n",
       "0 -0.438531                     -0.260839                    1.567900   \n",
       "1 -0.149398                     -0.260839                   -0.637796   \n",
       "2 -0.273248                     -0.260839                   -0.637796   \n",
       "3 -0.564609                     -0.260839                    1.567900   \n",
       "4  0.036824                     -0.260839                   -0.637796   \n",
       "\n",
       "   customer_age  day_of_month  default_yes  education  housing_loan_yes  \\\n",
       "0     -1.186710      1.224302     -0.13336   1.037131          0.887675   \n",
       "1     -0.611016      0.261613     -0.13336  -0.300962         -1.126539   \n",
       "2      0.540373     -1.302758     -0.13336  -0.300962         -1.126539   \n",
       "3     -0.611016      0.502285     -0.13336  -0.300962          0.887675   \n",
       "4      0.060628     -0.340069     -0.13336  -1.639055          0.887675   \n",
       "\n",
       "   job_type_blue_collar  job_type_entrepreneur  job_type_housemaid  \\\n",
       "0             -0.523923              -0.184059           -0.170402   \n",
       "1              1.908676              -0.184059           -0.170402   \n",
       "2             -0.523923              -0.184059           -0.170402   \n",
       "3             -0.523923              -0.184059           -0.170402   \n",
       "4              1.908676              -0.184059           -0.170402   \n",
       "\n",
       "   job_type_management  job_type_retired  job_type_self_employed  \\\n",
       "0             1.935852         -0.230075               -0.190744   \n",
       "1            -0.516568         -0.230075               -0.190744   \n",
       "2            -0.516568         -0.230075               -0.190744   \n",
       "3            -0.516568         -0.230075               -0.190744   \n",
       "4            -0.516568         -0.230075               -0.190744   \n",
       "\n",
       "   job_type_services  job_type_student  job_type_technician  \\\n",
       "0          -0.319001         -0.146281            -0.444438   \n",
       "1          -0.319001         -0.146281            -0.444438   \n",
       "2          -0.319001         -0.146281             2.250032   \n",
       "3           3.134787         -0.146281            -0.444438   \n",
       "4          -0.319001         -0.146281            -0.444438   \n",
       "\n",
       "   job_type_unemployed  job_type_unknown  last_contact_duration  \\\n",
       "0            -0.171186         -0.079548               0.220175   \n",
       "1            -0.171186         -0.079548              -0.467413   \n",
       "2            -0.171186         -0.079548              -0.647905   \n",
       "3            -0.171186         -0.079548              -0.536172   \n",
       "4            -0.171186         -0.079548              -0.871372   \n",
       "\n",
       "   marital_married  marital_single  month_aug  month_dec  month_feb  \\\n",
       "0        -1.233398        1.604090   -0.39696  -0.070383  -0.248169   \n",
       "1         0.810768       -0.623406   -0.39696  -0.070383  -0.248169   \n",
       "2         0.810768       -0.623406   -0.39696  -0.070383   4.029507   \n",
       "3        -1.233398        1.604090   -0.39696  -0.070383  -0.248169   \n",
       "4         0.810768       -0.623406   -0.39696  -0.070383  -0.248169   \n",
       "\n",
       "   month_jan  month_jul  month_jun  month_mar  month_may  month_nov  \\\n",
       "0  -0.176206   -0.42211   2.729141  -0.103902  -0.664070  -0.311612   \n",
       "1  -0.176206   -0.42211  -0.366416  -0.103902  -0.664070   3.209122   \n",
       "2  -0.176206   -0.42211  -0.366416  -0.103902  -0.664070  -0.311612   \n",
       "3  -0.176206   -0.42211  -0.366416  -0.103902   1.505865  -0.311612   \n",
       "4  -0.176206   -0.42211  -0.366416  -0.103902   1.505865  -0.311612   \n",
       "\n",
       "   month_oct  month_sep  num_contacts_in_campaign  num_contacts_prev_campaign  \\\n",
       "0  -0.127981  -0.115553                  0.501592                   -0.360850   \n",
       "1  -0.127981  -0.115553                 -0.267995                    0.321856   \n",
       "2  -0.127981  -0.115553                  0.501592                   -0.360850   \n",
       "3  -0.127981  -0.115553                  0.116798                   -0.360850   \n",
       "4  -0.127981  -0.115553                 -0.267995                   -0.360850   \n",
       "\n",
       "   personal_loan_yes  prev_campaign_outcome_other  \\\n",
       "0          -0.434972                    -0.204638   \n",
       "1           2.299000                     4.886688   \n",
       "2          -0.434972                    -0.204638   \n",
       "3          -0.434972                    -0.204638   \n",
       "4          -0.434972                    -0.204638   \n",
       "\n",
       "   prev_campaign_outcome_success  prev_campaign_outcome_unknown  target  \n",
       "0                      -0.187066                       0.474406     0.0  \n",
       "1                      -0.187066                      -2.107900     0.0  \n",
       "2                      -0.187066                       0.474406     0.0  \n",
       "3                      -0.187066                       0.474406     0.0  \n",
       "4                      -0.187066                       0.474406     0.0  "
      ]
     },
     "execution_count": 74,
     "metadata": {},
     "output_type": "execute_result"
    }
   ],
   "source": [
    "x = pd.concat([train[train.columns.difference(['target'])],train['target']], axis=1)\n",
    "x.head()"
   ]
  },
  {
   "cell_type": "code",
   "execution_count": 75,
   "metadata": {},
   "outputs": [],
   "source": [
    "#train.drop(columns=['old'],inplace=True)"
   ]
  },
  {
   "cell_type": "code",
   "execution_count": 76,
   "metadata": {},
   "outputs": [
    {
     "data": {
      "text/plain": [
       "'balance+communication_type_telephone+communication_type_unknown+customer_age+day_of_month+default_yes+education+housing_loan_yes+job_type_blue_collar+job_type_entrepreneur+job_type_housemaid+job_type_management+job_type_retired+job_type_self_employed+job_type_services+job_type_student+job_type_technician+job_type_unemployed+job_type_unknown+last_contact_duration+marital_married+marital_single+month_aug+month_dec+month_feb+month_jan+month_jul+month_jun+month_mar+month_may+month_nov+month_oct+month_sep+num_contacts_in_campaign+num_contacts_prev_campaign+personal_loan_yes+prev_campaign_outcome_other+prev_campaign_outcome_success+prev_campaign_outcome_unknown+target'"
      ]
     },
     "execution_count": 76,
     "metadata": {},
     "output_type": "execute_result"
    }
   ],
   "source": [
    "'+'.join(train.columns)"
   ]
  },
  {
   "cell_type": "code",
   "execution_count": null,
   "metadata": {},
   "outputs": [],
   "source": []
  },
  {
   "cell_type": "code",
   "execution_count": 77,
   "metadata": {},
   "outputs": [],
   "source": [
    "a,b = dmatrices(formula_like = 'target~customer_age+education+balance+day_of_month+last_contact_duration+num_contacts_in_campaign+num_contacts_prev_campaign+communication_type_telephone+communication_type_unknown+default_yes+housing_loan_yes+job_type_blue_collar+job_type_entrepreneur+job_type_housemaid+job_type_management+job_type_retired+job_type_self_employed+job_type_services+job_type_student+job_type_technician+job_type_unemployed+job_type_unknown+marital_married+marital_single+month_dec+month_feb+month_jan+month_mar+month_nov+month_oct+month_sep+personal_loan_yes+prev_campaign_outcome_other+prev_campaign_outcome_success',data=x,return_type='dataframe')"
   ]
  },
  {
   "cell_type": "code",
   "execution_count": 78,
   "metadata": {},
   "outputs": [],
   "source": [
    "vif = pd.DataFrame()\n",
    "vif['VIF Factor'] = [variance_inflation_factor(b.values,i) for i in range(b.shape[1])]\n",
    "vif['Feature'] = b.columns"
   ]
  },
  {
   "cell_type": "code",
   "execution_count": 79,
   "metadata": {
    "scrolled": true
   },
   "outputs": [
    {
     "name": "stdout",
     "output_type": "stream",
     "text": [
      "    VIF Factor                        Feature\n",
      "24    2.833741                 marital_single\n",
      "23    2.497061                marital_married\n",
      "15    2.484922            job_type_management\n",
      "12    2.375465           job_type_blue_collar\n",
      "20    2.058969            job_type_technician\n",
      "18    1.647682              job_type_services\n",
      "16    1.645444               job_type_retired\n",
      "1     1.609267                   customer_age\n",
      "2     1.423213                      education\n",
      "7     1.420223     num_contacts_prev_campaign\n",
      "17    1.281644         job_type_self_employed\n",
      "13    1.267569          job_type_entrepreneur\n",
      "14    1.251360             job_type_housemaid\n",
      "9     1.246510     communication_type_unknown\n",
      "19    1.243268               job_type_student\n",
      "4     1.234979                   day_of_month\n",
      "21    1.232069            job_type_unemployed\n",
      "33    1.224851    prev_campaign_outcome_other\n",
      "34    1.205685  prev_campaign_outcome_success\n",
      "11    1.193425               housing_loan_yes\n",
      "26    1.157239                      month_feb\n",
      "29    1.131462                      month_nov\n",
      "27    1.128738                      month_jan\n",
      "6     1.092750       num_contacts_in_campaign\n",
      "8     1.074755   communication_type_telephone\n",
      "22    1.072498               job_type_unknown\n",
      "3     1.064766                        balance\n",
      "30    1.052077                      month_oct\n",
      "31    1.048974                      month_sep\n",
      "32    1.032992              personal_loan_yes\n",
      "28    1.025347                      month_mar\n",
      "25    1.020788                      month_dec\n",
      "5     1.016878          last_contact_duration\n",
      "10    1.015334                    default_yes\n",
      "0     1.000000                      Intercept\n"
     ]
    }
   ],
   "source": [
    "print(vif.sort_values(by='VIF Factor',ascending=False))"
   ]
  },
  {
   "cell_type": "markdown",
   "metadata": {},
   "source": [
    "### Dividing the data into training and validation"
   ]
  },
  {
   "cell_type": "code",
   "execution_count": 80,
   "metadata": {},
   "outputs": [],
   "source": [
    "from sklearn.model_selection import train_test_split"
   ]
  },
  {
   "cell_type": "code",
   "execution_count": 81,
   "metadata": {},
   "outputs": [],
   "source": [
    "train,validation = train_test_split(train,test_size=0.3,random_state=114)"
   ]
  },
  {
   "cell_type": "markdown",
   "metadata": {},
   "source": [
    "### Building Model (Logistic Regression)"
   ]
  },
  {
   "cell_type": "code",
   "execution_count": 81,
   "metadata": {},
   "outputs": [],
   "source": [
    "#train_final = pd.concat([pd.DataFrame(x_scaled),pd.DataFrame(train_y)],axis=1)"
   ]
  },
  {
   "cell_type": "code",
   "execution_count": 82,
   "metadata": {},
   "outputs": [
    {
     "name": "stdout",
     "output_type": "stream",
     "text": [
      "Optimization terminated successfully.\n",
      "         Current function value: 0.204659\n",
      "         Iterations 8\n"
     ]
    }
   ],
   "source": [
    "log_reg = sm.logit(formula='target~customer_age+education+balance+day_of_month+last_contact_duration+num_contacts_in_campaign+num_contacts_prev_campaign+communication_type_telephone+communication_type_unknown+default_yes+housing_loan_yes+job_type_blue_collar+job_type_entrepreneur+job_type_housemaid+job_type_management+job_type_retired+job_type_self_employed+job_type_services+job_type_student+job_type_technician+job_type_unemployed+job_type_unknown+marital_married+marital_single+month_dec+month_feb+month_jan+month_mar+month_nov+month_oct+month_sep+personal_loan_yes+prev_campaign_outcome_other+prev_campaign_outcome_success',data=train)\n",
    "result=log_reg.fit()"
   ]
  },
  {
   "cell_type": "code",
   "execution_count": 83,
   "metadata": {
    "scrolled": true
   },
   "outputs": [
    {
     "name": "stdout",
     "output_type": "stream",
     "text": [
      "                                Results: Logit\n",
      "==============================================================================\n",
      "Model:                    Logit                Pseudo R-squared:     0.404    \n",
      "Dependent Variable:       target               AIC:                  9137.2161\n",
      "Date:                     2021-03-01 10:56     BIC:                  9417.4150\n",
      "No. Observations:         22152                Log-Likelihood:       -4533.6  \n",
      "Df Model:                 34                   LL-Null:              -7601.0  \n",
      "Df Residuals:             22117                LLR p-value:          0.0000   \n",
      "Converged:                1.0000               Scale:                1.0000   \n",
      "No. Iterations:           8.0000                                              \n",
      "------------------------------------------------------------------------------\n",
      "                               Coef.  Std.Err.    z     P>|z|   [0.025  0.975]\n",
      "------------------------------------------------------------------------------\n",
      "Intercept                     -3.2074   0.0434 -73.9262 0.0000 -3.2924 -3.1224\n",
      "customer_age                   0.0210   0.0354   0.5942 0.5524 -0.0483  0.0903\n",
      "education                      0.1186   0.0333   3.5614 0.0004  0.0533  0.1838\n",
      "balance                        0.0757   0.0257   2.9459 0.0032  0.0253  0.1261\n",
      "day_of_month                   0.0563   0.0306   1.8395 0.0658 -0.0037  0.1164\n",
      "last_contact_duration          1.2194   0.0245  49.7924 0.0000  1.1714  1.2674\n",
      "num_contacts_in_campaign      -0.3290   0.0425  -7.7452 0.0000 -0.4123 -0.2458\n",
      "num_contacts_prev_campaign     0.0650   0.0277   2.3438 0.0191  0.0106  0.1193\n",
      "communication_type_telephone  -0.0032   0.0274  -0.1162 0.9075 -0.0568  0.0504\n",
      "communication_type_unknown    -0.5988   0.0428 -14.0039 0.0000 -0.6826 -0.5150\n",
      "default_yes                    0.0224   0.0323   0.6931 0.4883 -0.0409  0.0856\n",
      "housing_loan_yes              -0.4208   0.0313 -13.4521 0.0000 -0.4821 -0.3595\n",
      "job_type_blue_collar          -0.1737   0.0458  -3.7959 0.0001 -0.2634 -0.0840\n",
      "job_type_entrepreneur         -0.1064   0.0371  -2.8689 0.0041 -0.1791 -0.0337\n",
      "job_type_housemaid            -0.1192   0.0356  -3.3512 0.0008 -0.1889 -0.0495\n",
      "job_type_management           -0.0615   0.0423  -1.4530 0.1462 -0.1444  0.0215\n",
      "job_type_retired               0.0630   0.0316   1.9977 0.0458  0.0012  0.1249\n",
      "job_type_self_employed        -0.0638   0.0318  -2.0078 0.0447 -0.1261 -0.0015\n",
      "job_type_services             -0.0769   0.0382  -2.0149 0.0439 -0.1517 -0.0021\n",
      "job_type_student               0.0601   0.0232   2.5879 0.0097  0.0146  0.1055\n",
      "job_type_technician           -0.0944   0.0397  -2.3818 0.0172 -0.1722 -0.0167\n",
      "job_type_unemployed           -0.0167   0.0279  -0.6002 0.5484 -0.0714  0.0379\n",
      "job_type_unknown              -0.0437   0.0274  -1.5942 0.1109 -0.0974  0.0100\n",
      "marital_married               -0.0670   0.0448  -1.4972 0.1343 -0.1548  0.0207\n",
      "marital_single                 0.1160   0.0468   2.4767 0.0133  0.0242  0.2078\n",
      "month_dec                      0.0783   0.0175   4.4732 0.0000  0.0440  0.1126\n",
      "month_feb                      0.0846   0.0254   3.3368 0.0008  0.0349  0.1343\n",
      "month_jan                     -0.1779   0.0319  -5.5813 0.0000 -0.2404 -0.1154\n",
      "month_mar                      0.2258   0.0165  13.6480 0.0000  0.1934  0.2582\n",
      "month_nov                     -0.1085   0.0292  -3.7087 0.0002 -0.1658 -0.0511\n",
      "month_oct                      0.1942   0.0174  11.1843 0.0000  0.1602  0.2282\n",
      "month_sep                      0.1715   0.0178   9.6181 0.0000  0.1366  0.2065\n",
      "personal_loan_yes             -0.1974   0.0342  -5.7663 0.0000 -0.2645 -0.1303\n",
      "prev_campaign_outcome_other    0.0477   0.0260   1.8302 0.0672 -0.0034  0.0987\n",
      "prev_campaign_outcome_success  0.4663   0.0192  24.3360 0.0000  0.4288  0.5039\n",
      "==============================================================================\n",
      "\n"
     ]
    }
   ],
   "source": [
    "print(result.summary2())"
   ]
  },
  {
   "cell_type": "markdown",
   "metadata": {},
   "source": [
    "## Metrics"
   ]
  },
  {
   "cell_type": "markdown",
   "metadata": {},
   "source": [
    "### Somers D\n",
    "We want to achieve high Somers' D."
   ]
  },
  {
   "cell_type": "code",
   "execution_count": 84,
   "metadata": {},
   "outputs": [
    {
     "name": "stdout",
     "output_type": "stream",
     "text": [
      "Train Gini: 0.8577675230294806\n",
      "Validation Gini: 0.8452633501553928\n"
     ]
    }
   ],
   "source": [
    "# Train data Somers' D\n",
    "train_gini = 2*metrics.roc_auc_score(train['target'],result.predict(train))-1 \n",
    "print('Train Gini:',train_gini)\n",
    "\n",
    "# Validation data Somers' D\n",
    "validation_gini = 2*metrics.roc_auc_score(validation['target'],result.predict(validation))-1\n",
    "print('Validation Gini:',validation_gini)\n"
   ]
  },
  {
   "cell_type": "markdown",
   "metadata": {},
   "source": [
    "### AUC\n",
    "We want to achieve high AUC."
   ]
  },
  {
   "cell_type": "code",
   "execution_count": 85,
   "metadata": {},
   "outputs": [
    {
     "name": "stdout",
     "output_type": "stream",
     "text": [
      "Train AUC: 0.9288837615147403\n",
      "Validation AUC: 0.9226316750776964\n"
     ]
    }
   ],
   "source": [
    "# Train data AUC\n",
    "train_auc = metrics.roc_auc_score(train['target'],result.predict(train))\n",
    "print('Train AUC:',train_auc)\n",
    "# Validation data AUC\n",
    "validation_auc = metrics.roc_auc_score(validation['target'],result.predict(validation))\n",
    "print('Validation AUC:',validation_auc)"
   ]
  },
  {
   "cell_type": "markdown",
   "metadata": {},
   "source": [
    "#### Predicting on Train data"
   ]
  },
  {
   "cell_type": "code",
   "execution_count": 86,
   "metadata": {},
   "outputs": [
    {
     "data": {
      "text/html": [
       "<div>\n",
       "<style scoped>\n",
       "    .dataframe tbody tr th:only-of-type {\n",
       "        vertical-align: middle;\n",
       "    }\n",
       "\n",
       "    .dataframe tbody tr th {\n",
       "        vertical-align: top;\n",
       "    }\n",
       "\n",
       "    .dataframe thead th {\n",
       "        text-align: right;\n",
       "    }\n",
       "</style>\n",
       "<table border=\"1\" class=\"dataframe\">\n",
       "  <thead>\n",
       "    <tr style=\"text-align: right;\">\n",
       "      <th></th>\n",
       "      <th>Actual</th>\n",
       "      <th>Prob</th>\n",
       "    </tr>\n",
       "  </thead>\n",
       "  <tbody>\n",
       "    <tr>\n",
       "      <th>23200</th>\n",
       "      <td>0.0</td>\n",
       "      <td>0.035425</td>\n",
       "    </tr>\n",
       "    <tr>\n",
       "      <th>25256</th>\n",
       "      <td>0.0</td>\n",
       "      <td>0.100039</td>\n",
       "    </tr>\n",
       "    <tr>\n",
       "      <th>3724</th>\n",
       "      <td>0.0</td>\n",
       "      <td>0.006878</td>\n",
       "    </tr>\n",
       "    <tr>\n",
       "      <th>3873</th>\n",
       "      <td>0.0</td>\n",
       "      <td>0.010922</td>\n",
       "    </tr>\n",
       "    <tr>\n",
       "      <th>7674</th>\n",
       "      <td>0.0</td>\n",
       "      <td>0.038236</td>\n",
       "    </tr>\n",
       "  </tbody>\n",
       "</table>\n",
       "</div>"
      ],
      "text/plain": [
       "       Actual      Prob\n",
       "23200     0.0  0.035425\n",
       "25256     0.0  0.100039\n",
       "3724      0.0  0.006878\n",
       "3873      0.0  0.010922\n",
       "7674      0.0  0.038236"
      ]
     },
     "execution_count": 86,
     "metadata": {},
     "output_type": "execute_result"
    }
   ],
   "source": [
    "# Train Predicted\n",
    "train_pred_prob = pd.DataFrame(result.predict(train))\n",
    "train_pred_prob.columns = ['prob']\n",
    "train_actual = train['target']\n",
    "# Making a dataframe\n",
    "train_pred = pd.concat([train_actual,train_pred_prob], axis = 1)\n",
    "train_pred.columns = ['Actual','Prob']\n",
    "train_pred.head()"
   ]
  },
  {
   "cell_type": "markdown",
   "metadata": {},
   "source": [
    "#### Predicting on Validation data"
   ]
  },
  {
   "cell_type": "code",
   "execution_count": 87,
   "metadata": {},
   "outputs": [
    {
     "data": {
      "text/html": [
       "<div>\n",
       "<style scoped>\n",
       "    .dataframe tbody tr th:only-of-type {\n",
       "        vertical-align: middle;\n",
       "    }\n",
       "\n",
       "    .dataframe tbody tr th {\n",
       "        vertical-align: top;\n",
       "    }\n",
       "\n",
       "    .dataframe thead th {\n",
       "        text-align: right;\n",
       "    }\n",
       "</style>\n",
       "<table border=\"1\" class=\"dataframe\">\n",
       "  <thead>\n",
       "    <tr style=\"text-align: right;\">\n",
       "      <th></th>\n",
       "      <th>Actual</th>\n",
       "      <th>Prob</th>\n",
       "    </tr>\n",
       "  </thead>\n",
       "  <tbody>\n",
       "    <tr>\n",
       "      <th>31640</th>\n",
       "      <td>1.0</td>\n",
       "      <td>0.119935</td>\n",
       "    </tr>\n",
       "    <tr>\n",
       "      <th>9297</th>\n",
       "      <td>0.0</td>\n",
       "      <td>0.732804</td>\n",
       "    </tr>\n",
       "    <tr>\n",
       "      <th>18715</th>\n",
       "      <td>1.0</td>\n",
       "      <td>0.414724</td>\n",
       "    </tr>\n",
       "    <tr>\n",
       "      <th>26661</th>\n",
       "      <td>1.0</td>\n",
       "      <td>0.142245</td>\n",
       "    </tr>\n",
       "    <tr>\n",
       "      <th>18719</th>\n",
       "      <td>0.0</td>\n",
       "      <td>0.006406</td>\n",
       "    </tr>\n",
       "  </tbody>\n",
       "</table>\n",
       "</div>"
      ],
      "text/plain": [
       "       Actual      Prob\n",
       "31640     1.0  0.119935\n",
       "9297      0.0  0.732804\n",
       "18715     1.0  0.414724\n",
       "26661     1.0  0.142245\n",
       "18719     0.0  0.006406"
      ]
     },
     "execution_count": 87,
     "metadata": {},
     "output_type": "execute_result"
    }
   ],
   "source": [
    "## Validation Predicted\n",
    "validation_pred_prob = pd.DataFrame(result.predict(validation))\n",
    "validation_pred_prob.columns = ['prob']\n",
    "validation_actual = validation['target']\n",
    "## Making a dataframe\n",
    "validation_pred = pd.concat([validation_actual,validation_pred_prob], axis = 1)\n",
    "validation_pred.columns = ['Actual','Prob']\n",
    "validation_pred.head()"
   ]
  },
  {
   "cell_type": "markdown",
   "metadata": {},
   "source": [
    "### Calculating metrics for each cut-off"
   ]
  },
  {
   "cell_type": "code",
   "execution_count": 88,
   "metadata": {},
   "outputs": [],
   "source": [
    "# Confusion matrix for each cutoff\n",
    "roc_like_df = pd.DataFrame()\n",
    "train_temp = train_pred.copy()\n",
    "\n",
    "for cut_off in np.linspace(0,1,50):\n",
    "    #train_temp['CutOff'] = cut_off\n",
    "    train_temp['Predicted'] = train_temp['Prob'].apply(lambda x: 0.0 if x < cut_off else 1.0)\n",
    "    train_temp['tp'] = train_temp.apply(lambda x:1.0 if x['Actual']==1.0 and x['Predicted']==1.0 else 0.0, axis=1)\n",
    "    train_temp['tn'] = train_temp.apply(lambda x:1.0 if x['Actual']==0.0 and x['Predicted']==0.0 else 0.0, axis=1)\n",
    "    train_temp['fp'] = train_temp.apply(lambda x:1.0 if x['Actual']==0.0 and x['Predicted']==1.0 else 0.0, axis=1)\n",
    "    train_temp['fn'] = train_temp.apply(lambda x:1.0 if x['Actual']==1.0 and x['Predicted']==0.0 else 0.0, axis=1)\n",
    "    sensitivity = train_temp['tp'].sum()/(train_temp['tp'].sum()+train_temp['fn'].sum())\n",
    "    specificity = train_temp['tn'].sum()/(train_temp['tn'].sum()+train_temp.fp.sum())\n",
    "    accuracy = (train_temp['tp'].sum()+train_temp['tn'].sum())/(train_temp['tp'].sum()+train_temp['tn'].sum()+train_temp['fp'].sum()+train_temp['fn'].sum())\n",
    "    cutoff = cut_off\n",
    "    roc_like_table = pd.DataFrame([cutoff,sensitivity,specificity,accuracy]).T\n",
    "    roc_like_table.columns = ['cutoff','Sensitivity','Specificity','Accuracy']\n",
    "    roc_like_df = pd.concat([roc_like_df,roc_like_table], axis=0)"
   ]
  },
  {
   "cell_type": "code",
   "execution_count": 89,
   "metadata": {},
   "outputs": [
    {
     "data": {
      "text/html": [
       "<div>\n",
       "<style scoped>\n",
       "    .dataframe tbody tr th:only-of-type {\n",
       "        vertical-align: middle;\n",
       "    }\n",
       "\n",
       "    .dataframe tbody tr th {\n",
       "        vertical-align: top;\n",
       "    }\n",
       "\n",
       "    .dataframe thead th {\n",
       "        text-align: right;\n",
       "    }\n",
       "</style>\n",
       "<table border=\"1\" class=\"dataframe\">\n",
       "  <thead>\n",
       "    <tr style=\"text-align: right;\">\n",
       "      <th></th>\n",
       "      <th>cutoff</th>\n",
       "      <th>Sensitivity</th>\n",
       "      <th>Specificity</th>\n",
       "      <th>Accuracy</th>\n",
       "    </tr>\n",
       "  </thead>\n",
       "  <tbody>\n",
       "    <tr>\n",
       "      <th>0</th>\n",
       "      <td>0.000000</td>\n",
       "      <td>1.000000</td>\n",
       "      <td>0.000000</td>\n",
       "      <td>0.108388</td>\n",
       "    </tr>\n",
       "    <tr>\n",
       "      <th>0</th>\n",
       "      <td>0.020408</td>\n",
       "      <td>0.995002</td>\n",
       "      <td>0.442864</td>\n",
       "      <td>0.502709</td>\n",
       "    </tr>\n",
       "    <tr>\n",
       "      <th>0</th>\n",
       "      <td>0.040816</td>\n",
       "      <td>0.972511</td>\n",
       "      <td>0.653891</td>\n",
       "      <td>0.688425</td>\n",
       "    </tr>\n",
       "    <tr>\n",
       "      <th>0</th>\n",
       "      <td>0.061224</td>\n",
       "      <td>0.944190</td>\n",
       "      <td>0.759202</td>\n",
       "      <td>0.779252</td>\n",
       "    </tr>\n",
       "    <tr>\n",
       "      <th>0</th>\n",
       "      <td>0.081633</td>\n",
       "      <td>0.905873</td>\n",
       "      <td>0.819351</td>\n",
       "      <td>0.828729</td>\n",
       "    </tr>\n",
       "  </tbody>\n",
       "</table>\n",
       "</div>"
      ],
      "text/plain": [
       "     cutoff  Sensitivity  Specificity  Accuracy\n",
       "0  0.000000     1.000000     0.000000  0.108388\n",
       "0  0.020408     0.995002     0.442864  0.502709\n",
       "0  0.040816     0.972511     0.653891  0.688425\n",
       "0  0.061224     0.944190     0.759202  0.779252\n",
       "0  0.081633     0.905873     0.819351  0.828729"
      ]
     },
     "execution_count": 89,
     "metadata": {},
     "output_type": "execute_result"
    }
   ],
   "source": [
    "roc_like_df.head()"
   ]
  },
  {
   "cell_type": "code",
   "execution_count": 90,
   "metadata": {},
   "outputs": [],
   "source": [
    "# Finding ideal cutoff\n",
    "roc_like_df['Total'] = roc_like_df['Sensitivity'] + roc_like_df['Specificity']"
   ]
  },
  {
   "cell_type": "code",
   "execution_count": 91,
   "metadata": {},
   "outputs": [
    {
     "data": {
      "text/html": [
       "<div>\n",
       "<style scoped>\n",
       "    .dataframe tbody tr th:only-of-type {\n",
       "        vertical-align: middle;\n",
       "    }\n",
       "\n",
       "    .dataframe tbody tr th {\n",
       "        vertical-align: top;\n",
       "    }\n",
       "\n",
       "    .dataframe thead th {\n",
       "        text-align: right;\n",
       "    }\n",
       "</style>\n",
       "<table border=\"1\" class=\"dataframe\">\n",
       "  <thead>\n",
       "    <tr style=\"text-align: right;\">\n",
       "      <th></th>\n",
       "      <th>cutoff</th>\n",
       "      <th>Sensitivity</th>\n",
       "      <th>Specificity</th>\n",
       "      <th>Accuracy</th>\n",
       "      <th>Total</th>\n",
       "    </tr>\n",
       "  </thead>\n",
       "  <tbody>\n",
       "    <tr>\n",
       "      <th>0</th>\n",
       "      <td>0.000000</td>\n",
       "      <td>1.000000</td>\n",
       "      <td>0.000000</td>\n",
       "      <td>0.108388</td>\n",
       "      <td>1.000000</td>\n",
       "    </tr>\n",
       "    <tr>\n",
       "      <th>0</th>\n",
       "      <td>0.020408</td>\n",
       "      <td>0.995002</td>\n",
       "      <td>0.442864</td>\n",
       "      <td>0.502709</td>\n",
       "      <td>1.437866</td>\n",
       "    </tr>\n",
       "    <tr>\n",
       "      <th>0</th>\n",
       "      <td>0.040816</td>\n",
       "      <td>0.972511</td>\n",
       "      <td>0.653891</td>\n",
       "      <td>0.688425</td>\n",
       "      <td>1.626402</td>\n",
       "    </tr>\n",
       "    <tr>\n",
       "      <th>0</th>\n",
       "      <td>0.061224</td>\n",
       "      <td>0.944190</td>\n",
       "      <td>0.759202</td>\n",
       "      <td>0.779252</td>\n",
       "      <td>1.703392</td>\n",
       "    </tr>\n",
       "    <tr>\n",
       "      <th>0</th>\n",
       "      <td>0.081633</td>\n",
       "      <td>0.905873</td>\n",
       "      <td>0.819351</td>\n",
       "      <td>0.828729</td>\n",
       "      <td>1.725223</td>\n",
       "    </tr>\n",
       "  </tbody>\n",
       "</table>\n",
       "</div>"
      ],
      "text/plain": [
       "     cutoff  Sensitivity  Specificity  Accuracy     Total\n",
       "0  0.000000     1.000000     0.000000  0.108388  1.000000\n",
       "0  0.020408     0.995002     0.442864  0.502709  1.437866\n",
       "0  0.040816     0.972511     0.653891  0.688425  1.626402\n",
       "0  0.061224     0.944190     0.759202  0.779252  1.703392\n",
       "0  0.081633     0.905873     0.819351  0.828729  1.725223"
      ]
     },
     "execution_count": 91,
     "metadata": {},
     "output_type": "execute_result"
    }
   ],
   "source": [
    "roc_like_df.head()"
   ]
  },
  {
   "cell_type": "code",
   "execution_count": 92,
   "metadata": {},
   "outputs": [
    {
     "data": {
      "text/html": [
       "<div>\n",
       "<style scoped>\n",
       "    .dataframe tbody tr th:only-of-type {\n",
       "        vertical-align: middle;\n",
       "    }\n",
       "\n",
       "    .dataframe tbody tr th {\n",
       "        vertical-align: top;\n",
       "    }\n",
       "\n",
       "    .dataframe thead th {\n",
       "        text-align: right;\n",
       "    }\n",
       "</style>\n",
       "<table border=\"1\" class=\"dataframe\">\n",
       "  <thead>\n",
       "    <tr style=\"text-align: right;\">\n",
       "      <th></th>\n",
       "      <th>cutoff</th>\n",
       "      <th>Sensitivity</th>\n",
       "      <th>Specificity</th>\n",
       "      <th>Accuracy</th>\n",
       "      <th>Total</th>\n",
       "    </tr>\n",
       "  </thead>\n",
       "  <tbody>\n",
       "    <tr>\n",
       "      <th>0</th>\n",
       "      <td>0.081633</td>\n",
       "      <td>0.905873</td>\n",
       "      <td>0.819351</td>\n",
       "      <td>0.828729</td>\n",
       "      <td>1.725223</td>\n",
       "    </tr>\n",
       "  </tbody>\n",
       "</table>\n",
       "</div>"
      ],
      "text/plain": [
       "     cutoff  Sensitivity  Specificity  Accuracy     Total\n",
       "0  0.081633     0.905873     0.819351  0.828729  1.725223"
      ]
     },
     "execution_count": 92,
     "metadata": {},
     "output_type": "execute_result"
    }
   ],
   "source": [
    "# Cutoff based on highest sensitivity+specificity\n",
    "roc_like_df[roc_like_df['Total']==roc_like_df['Total'].max()]"
   ]
  },
  {
   "cell_type": "code",
   "execution_count": 93,
   "metadata": {},
   "outputs": [
    {
     "data": {
      "text/html": [
       "<div>\n",
       "<style scoped>\n",
       "    .dataframe tbody tr th:only-of-type {\n",
       "        vertical-align: middle;\n",
       "    }\n",
       "\n",
       "    .dataframe tbody tr th {\n",
       "        vertical-align: top;\n",
       "    }\n",
       "\n",
       "    .dataframe thead th {\n",
       "        text-align: right;\n",
       "    }\n",
       "</style>\n",
       "<table border=\"1\" class=\"dataframe\">\n",
       "  <thead>\n",
       "    <tr style=\"text-align: right;\">\n",
       "      <th></th>\n",
       "      <th>Actual</th>\n",
       "      <th>Prob</th>\n",
       "    </tr>\n",
       "  </thead>\n",
       "  <tbody>\n",
       "    <tr>\n",
       "      <th>31640</th>\n",
       "      <td>1.0</td>\n",
       "      <td>0.119935</td>\n",
       "    </tr>\n",
       "    <tr>\n",
       "      <th>9297</th>\n",
       "      <td>0.0</td>\n",
       "      <td>0.732804</td>\n",
       "    </tr>\n",
       "    <tr>\n",
       "      <th>18715</th>\n",
       "      <td>1.0</td>\n",
       "      <td>0.414724</td>\n",
       "    </tr>\n",
       "    <tr>\n",
       "      <th>26661</th>\n",
       "      <td>1.0</td>\n",
       "      <td>0.142245</td>\n",
       "    </tr>\n",
       "    <tr>\n",
       "      <th>18719</th>\n",
       "      <td>0.0</td>\n",
       "      <td>0.006406</td>\n",
       "    </tr>\n",
       "  </tbody>\n",
       "</table>\n",
       "</div>"
      ],
      "text/plain": [
       "       Actual      Prob\n",
       "31640     1.0  0.119935\n",
       "9297      0.0  0.732804\n",
       "18715     1.0  0.414724\n",
       "26661     1.0  0.142245\n",
       "18719     0.0  0.006406"
      ]
     },
     "execution_count": 93,
     "metadata": {},
     "output_type": "execute_result"
    }
   ],
   "source": [
    "validation_pred.head()"
   ]
  },
  {
   "cell_type": "markdown",
   "metadata": {},
   "source": [
    "### Predicting on Train and Validation based on the ideal cut-off"
   ]
  },
  {
   "cell_type": "code",
   "execution_count": 94,
   "metadata": {},
   "outputs": [],
   "source": [
    "# Train and test predicted based in cutoff 0.0816\n",
    "train_pred['Predicted'] = train_pred['Prob'].apply(lambda x: 0 if x<0.0816 else 1)\n",
    "validation_pred['Predicted'] = validation_pred['Prob'].apply(lambda x: 0 if x<0.0816 else 1)"
   ]
  },
  {
   "cell_type": "code",
   "execution_count": 95,
   "metadata": {},
   "outputs": [
    {
     "data": {
      "text/html": [
       "<div>\n",
       "<style scoped>\n",
       "    .dataframe tbody tr th:only-of-type {\n",
       "        vertical-align: middle;\n",
       "    }\n",
       "\n",
       "    .dataframe tbody tr th {\n",
       "        vertical-align: top;\n",
       "    }\n",
       "\n",
       "    .dataframe thead th {\n",
       "        text-align: right;\n",
       "    }\n",
       "</style>\n",
       "<table border=\"1\" class=\"dataframe\">\n",
       "  <thead>\n",
       "    <tr style=\"text-align: right;\">\n",
       "      <th>Predicted</th>\n",
       "      <th>0</th>\n",
       "      <th>1</th>\n",
       "    </tr>\n",
       "    <tr>\n",
       "      <th>Actual</th>\n",
       "      <th></th>\n",
       "      <th></th>\n",
       "    </tr>\n",
       "  </thead>\n",
       "  <tbody>\n",
       "    <tr>\n",
       "      <th>0.0</th>\n",
       "      <td>16181</td>\n",
       "      <td>3570</td>\n",
       "    </tr>\n",
       "    <tr>\n",
       "      <th>1.0</th>\n",
       "      <td>226</td>\n",
       "      <td>2175</td>\n",
       "    </tr>\n",
       "  </tbody>\n",
       "</table>\n",
       "</div>"
      ],
      "text/plain": [
       "Predicted      0     1\n",
       "Actual                \n",
       "0.0        16181  3570\n",
       "1.0          226  2175"
      ]
     },
     "execution_count": 95,
     "metadata": {},
     "output_type": "execute_result"
    }
   ],
   "source": [
    "pd.crosstab(train_pred['Actual'],train_pred['Predicted'])"
   ]
  },
  {
   "cell_type": "code",
   "execution_count": 96,
   "metadata": {},
   "outputs": [
    {
     "data": {
      "text/plain": [
       "0.5340044193469187"
      ]
     },
     "execution_count": 96,
     "metadata": {},
     "output_type": "execute_result"
    }
   ],
   "source": [
    "# F1 Score of train data\n",
    "f1_score(train_pred.Actual,train_pred.Predicted)"
   ]
  },
  {
   "cell_type": "code",
   "execution_count": 97,
   "metadata": {},
   "outputs": [
    {
     "data": {
      "text/html": [
       "<div>\n",
       "<style scoped>\n",
       "    .dataframe tbody tr th:only-of-type {\n",
       "        vertical-align: middle;\n",
       "    }\n",
       "\n",
       "    .dataframe tbody tr th {\n",
       "        vertical-align: top;\n",
       "    }\n",
       "\n",
       "    .dataframe thead th {\n",
       "        text-align: right;\n",
       "    }\n",
       "</style>\n",
       "<table border=\"1\" class=\"dataframe\">\n",
       "  <thead>\n",
       "    <tr style=\"text-align: right;\">\n",
       "      <th>Predicted</th>\n",
       "      <th>0</th>\n",
       "      <th>1</th>\n",
       "    </tr>\n",
       "    <tr>\n",
       "      <th>Actual</th>\n",
       "      <th></th>\n",
       "      <th></th>\n",
       "    </tr>\n",
       "  </thead>\n",
       "  <tbody>\n",
       "    <tr>\n",
       "      <th>0.0</th>\n",
       "      <td>6921</td>\n",
       "      <td>1581</td>\n",
       "    </tr>\n",
       "    <tr>\n",
       "      <th>1.0</th>\n",
       "      <td>105</td>\n",
       "      <td>888</td>\n",
       "    </tr>\n",
       "  </tbody>\n",
       "</table>\n",
       "</div>"
      ],
      "text/plain": [
       "Predicted     0     1\n",
       "Actual               \n",
       "0.0        6921  1581\n",
       "1.0         105   888"
      ]
     },
     "execution_count": 97,
     "metadata": {},
     "output_type": "execute_result"
    }
   ],
   "source": [
    "pd.crosstab(validation_pred['Actual'],validation_pred['Predicted'])"
   ]
  },
  {
   "cell_type": "code",
   "execution_count": 98,
   "metadata": {},
   "outputs": [
    {
     "data": {
      "text/plain": [
       "0.512998266897747"
      ]
     },
     "execution_count": 98,
     "metadata": {},
     "output_type": "execute_result"
    }
   ],
   "source": [
    "# F1 Score of test data\n",
    "f1_score(validation_pred.Actual,validation_pred.Predicted)"
   ]
  },
  {
   "cell_type": "markdown",
   "metadata": {},
   "source": [
    "#### Accuracy Score"
   ]
  },
  {
   "cell_type": "code",
   "execution_count": 99,
   "metadata": {},
   "outputs": [
    {
     "name": "stdout",
     "output_type": "stream",
     "text": [
      "Accuracy of Train data: 0.8286384976525821\n",
      "Accuracy of Validation data: 0.822432859399684\n"
     ]
    }
   ],
   "source": [
    "# Calculating accuracy score\n",
    "print('Accuracy of Train data:', metrics.accuracy_score(train_pred.Actual,train_pred.Predicted))\n",
    "print('Accuracy of Validation data:', metrics.accuracy_score(validation_pred.Actual,validation_pred.Predicted))"
   ]
  },
  {
   "cell_type": "code",
   "execution_count": 100,
   "metadata": {},
   "outputs": [
    {
     "name": "stdout",
     "output_type": "stream",
     "text": [
      "              precision    recall  f1-score   support\n",
      "\n",
      "         0.0       0.99      0.82      0.90     19751\n",
      "         1.0       0.38      0.91      0.53      2401\n",
      "\n",
      "    accuracy                           0.83     22152\n",
      "   macro avg       0.68      0.86      0.71     22152\n",
      "weighted avg       0.92      0.83      0.86     22152\n",
      "\n"
     ]
    }
   ],
   "source": [
    "# classification report of Train data\n",
    "print(metrics.classification_report(train_pred.Actual,train_pred.Predicted))"
   ]
  },
  {
   "cell_type": "code",
   "execution_count": 101,
   "metadata": {},
   "outputs": [
    {
     "name": "stdout",
     "output_type": "stream",
     "text": [
      "              precision    recall  f1-score   support\n",
      "\n",
      "         0.0       0.99      0.81      0.89      8502\n",
      "         1.0       0.36      0.89      0.51       993\n",
      "\n",
      "    accuracy                           0.82      9495\n",
      "   macro avg       0.67      0.85      0.70      9495\n",
      "weighted avg       0.92      0.82      0.85      9495\n",
      "\n"
     ]
    }
   ],
   "source": [
    "# classification report of Train data\n",
    "print(metrics.classification_report(validation_pred.Actual,validation_pred.Predicted))"
   ]
  },
  {
   "cell_type": "markdown",
   "metadata": {},
   "source": [
    "### Predicting on Test data"
   ]
  },
  {
   "cell_type": "code",
   "execution_count": 102,
   "metadata": {},
   "outputs": [
    {
     "data": {
      "text/html": [
       "<div>\n",
       "<style scoped>\n",
       "    .dataframe tbody tr th:only-of-type {\n",
       "        vertical-align: middle;\n",
       "    }\n",
       "\n",
       "    .dataframe tbody tr th {\n",
       "        vertical-align: top;\n",
       "    }\n",
       "\n",
       "    .dataframe thead th {\n",
       "        text-align: right;\n",
       "    }\n",
       "</style>\n",
       "<table border=\"1\" class=\"dataframe\">\n",
       "  <thead>\n",
       "    <tr style=\"text-align: right;\">\n",
       "      <th></th>\n",
       "      <th>id</th>\n",
       "      <th>balance</th>\n",
       "      <th>communication_type_telephone</th>\n",
       "      <th>communication_type_unknown</th>\n",
       "      <th>customer_age</th>\n",
       "      <th>day_of_month</th>\n",
       "      <th>default_yes</th>\n",
       "      <th>education</th>\n",
       "      <th>housing_loan_yes</th>\n",
       "      <th>job_type_blue_collar</th>\n",
       "      <th>job_type_entrepreneur</th>\n",
       "      <th>job_type_housemaid</th>\n",
       "      <th>job_type_management</th>\n",
       "      <th>job_type_retired</th>\n",
       "      <th>job_type_self_employed</th>\n",
       "      <th>job_type_services</th>\n",
       "      <th>job_type_student</th>\n",
       "      <th>job_type_technician</th>\n",
       "      <th>job_type_unemployed</th>\n",
       "      <th>job_type_unknown</th>\n",
       "      <th>last_contact_duration</th>\n",
       "      <th>marital_married</th>\n",
       "      <th>marital_single</th>\n",
       "      <th>month_aug</th>\n",
       "      <th>month_dec</th>\n",
       "      <th>month_feb</th>\n",
       "      <th>month_jan</th>\n",
       "      <th>month_jul</th>\n",
       "      <th>month_jun</th>\n",
       "      <th>month_mar</th>\n",
       "      <th>month_may</th>\n",
       "      <th>month_nov</th>\n",
       "      <th>month_oct</th>\n",
       "      <th>month_sep</th>\n",
       "      <th>num_contacts_in_campaign</th>\n",
       "      <th>num_contacts_prev_campaign</th>\n",
       "      <th>personal_loan_yes</th>\n",
       "      <th>prev_campaign_outcome_other</th>\n",
       "      <th>prev_campaign_outcome_success</th>\n",
       "      <th>prev_campaign_outcome_unknown</th>\n",
       "    </tr>\n",
       "  </thead>\n",
       "  <tbody>\n",
       "    <tr>\n",
       "      <th>0</th>\n",
       "      <td>id_17231</td>\n",
       "      <td>2.661822</td>\n",
       "      <td>-0.264995</td>\n",
       "      <td>-0.631721</td>\n",
       "      <td>1.403157</td>\n",
       "      <td>-0.335069</td>\n",
       "      <td>-0.140343</td>\n",
       "      <td>1.034576</td>\n",
       "      <td>-1.100582</td>\n",
       "      <td>-0.523311</td>\n",
       "      <td>-0.185242</td>\n",
       "      <td>-0.162031</td>\n",
       "      <td>-0.509108</td>\n",
       "      <td>4.376589</td>\n",
       "      <td>-0.18904</td>\n",
       "      <td>-0.315933</td>\n",
       "      <td>-0.143853</td>\n",
       "      <td>-0.460954</td>\n",
       "      <td>-0.174764</td>\n",
       "      <td>-0.08127</td>\n",
       "      <td>-0.704201</td>\n",
       "      <td>0.808294</td>\n",
       "      <td>-0.631721</td>\n",
       "      <td>2.448542</td>\n",
       "      <td>-0.065532</td>\n",
       "      <td>-0.252507</td>\n",
       "      <td>-0.185242</td>\n",
       "      <td>-0.429082</td>\n",
       "      <td>-0.365049</td>\n",
       "      <td>-0.101754</td>\n",
       "      <td>-0.656010</td>\n",
       "      <td>-0.307103</td>\n",
       "      <td>-0.130754</td>\n",
       "      <td>-0.109944</td>\n",
       "      <td>-0.264219</td>\n",
       "      <td>-0.357751</td>\n",
       "      <td>-0.437125</td>\n",
       "      <td>-0.209059</td>\n",
       "      <td>-0.183317</td>\n",
       "      <td>0.468109</td>\n",
       "    </tr>\n",
       "    <tr>\n",
       "      <th>1</th>\n",
       "      <td>id_34508</td>\n",
       "      <td>-0.490222</td>\n",
       "      <td>-0.264995</td>\n",
       "      <td>-0.631721</td>\n",
       "      <td>-1.571229</td>\n",
       "      <td>0.266598</td>\n",
       "      <td>-0.140343</td>\n",
       "      <td>-0.299612</td>\n",
       "      <td>0.908610</td>\n",
       "      <td>1.910910</td>\n",
       "      <td>-0.185242</td>\n",
       "      <td>-0.162031</td>\n",
       "      <td>-0.509108</td>\n",
       "      <td>-0.228488</td>\n",
       "      <td>-0.18904</td>\n",
       "      <td>-0.315933</td>\n",
       "      <td>-0.143853</td>\n",
       "      <td>-0.460954</td>\n",
       "      <td>-0.174764</td>\n",
       "      <td>-0.08127</td>\n",
       "      <td>-0.818459</td>\n",
       "      <td>-1.237173</td>\n",
       "      <td>1.582977</td>\n",
       "      <td>-0.408406</td>\n",
       "      <td>-0.065532</td>\n",
       "      <td>-0.252507</td>\n",
       "      <td>-0.185242</td>\n",
       "      <td>-0.429082</td>\n",
       "      <td>-0.365049</td>\n",
       "      <td>-0.101754</td>\n",
       "      <td>1.524367</td>\n",
       "      <td>-0.307103</td>\n",
       "      <td>-0.130754</td>\n",
       "      <td>-0.109944</td>\n",
       "      <td>-0.264219</td>\n",
       "      <td>-0.357751</td>\n",
       "      <td>-0.437125</td>\n",
       "      <td>-0.209059</td>\n",
       "      <td>-0.183317</td>\n",
       "      <td>0.468109</td>\n",
       "    </tr>\n",
       "    <tr>\n",
       "      <th>2</th>\n",
       "      <td>id_44504</td>\n",
       "      <td>-0.506532</td>\n",
       "      <td>-0.264995</td>\n",
       "      <td>-0.631721</td>\n",
       "      <td>0.539626</td>\n",
       "      <td>-0.936736</td>\n",
       "      <td>-0.140343</td>\n",
       "      <td>-0.299612</td>\n",
       "      <td>-1.100582</td>\n",
       "      <td>-0.523311</td>\n",
       "      <td>-0.185242</td>\n",
       "      <td>-0.162031</td>\n",
       "      <td>-0.509108</td>\n",
       "      <td>-0.228488</td>\n",
       "      <td>-0.18904</td>\n",
       "      <td>-0.315933</td>\n",
       "      <td>-0.143853</td>\n",
       "      <td>2.169413</td>\n",
       "      <td>-0.174764</td>\n",
       "      <td>-0.08127</td>\n",
       "      <td>-0.204854</td>\n",
       "      <td>-1.237173</td>\n",
       "      <td>-0.631721</td>\n",
       "      <td>-0.408406</td>\n",
       "      <td>-0.065532</td>\n",
       "      <td>-0.252507</td>\n",
       "      <td>-0.185242</td>\n",
       "      <td>2.330554</td>\n",
       "      <td>-0.365049</td>\n",
       "      <td>-0.101754</td>\n",
       "      <td>-0.656010</td>\n",
       "      <td>-0.307103</td>\n",
       "      <td>-0.130754</td>\n",
       "      <td>-0.109944</td>\n",
       "      <td>-0.658398</td>\n",
       "      <td>-0.357751</td>\n",
       "      <td>-0.437125</td>\n",
       "      <td>-0.209059</td>\n",
       "      <td>-0.183317</td>\n",
       "      <td>0.468109</td>\n",
       "    </tr>\n",
       "  </tbody>\n",
       "</table>\n",
       "</div>"
      ],
      "text/plain": [
       "         id   balance  communication_type_telephone  \\\n",
       "0  id_17231  2.661822                     -0.264995   \n",
       "1  id_34508 -0.490222                     -0.264995   \n",
       "2  id_44504 -0.506532                     -0.264995   \n",
       "\n",
       "   communication_type_unknown  customer_age  day_of_month  default_yes  \\\n",
       "0                   -0.631721      1.403157     -0.335069    -0.140343   \n",
       "1                   -0.631721     -1.571229      0.266598    -0.140343   \n",
       "2                   -0.631721      0.539626     -0.936736    -0.140343   \n",
       "\n",
       "   education  housing_loan_yes  job_type_blue_collar  job_type_entrepreneur  \\\n",
       "0   1.034576         -1.100582             -0.523311              -0.185242   \n",
       "1  -0.299612          0.908610              1.910910              -0.185242   \n",
       "2  -0.299612         -1.100582             -0.523311              -0.185242   \n",
       "\n",
       "   job_type_housemaid  job_type_management  job_type_retired  \\\n",
       "0           -0.162031            -0.509108          4.376589   \n",
       "1           -0.162031            -0.509108         -0.228488   \n",
       "2           -0.162031            -0.509108         -0.228488   \n",
       "\n",
       "   job_type_self_employed  job_type_services  job_type_student  \\\n",
       "0                -0.18904          -0.315933         -0.143853   \n",
       "1                -0.18904          -0.315933         -0.143853   \n",
       "2                -0.18904          -0.315933         -0.143853   \n",
       "\n",
       "   job_type_technician  job_type_unemployed  job_type_unknown  \\\n",
       "0            -0.460954            -0.174764          -0.08127   \n",
       "1            -0.460954            -0.174764          -0.08127   \n",
       "2             2.169413            -0.174764          -0.08127   \n",
       "\n",
       "   last_contact_duration  marital_married  marital_single  month_aug  \\\n",
       "0              -0.704201         0.808294       -0.631721   2.448542   \n",
       "1              -0.818459        -1.237173        1.582977  -0.408406   \n",
       "2              -0.204854        -1.237173       -0.631721  -0.408406   \n",
       "\n",
       "   month_dec  month_feb  month_jan  month_jul  month_jun  month_mar  \\\n",
       "0  -0.065532  -0.252507  -0.185242  -0.429082  -0.365049  -0.101754   \n",
       "1  -0.065532  -0.252507  -0.185242  -0.429082  -0.365049  -0.101754   \n",
       "2  -0.065532  -0.252507  -0.185242   2.330554  -0.365049  -0.101754   \n",
       "\n",
       "   month_may  month_nov  month_oct  month_sep  num_contacts_in_campaign  \\\n",
       "0  -0.656010  -0.307103  -0.130754  -0.109944                 -0.264219   \n",
       "1   1.524367  -0.307103  -0.130754  -0.109944                 -0.264219   \n",
       "2  -0.656010  -0.307103  -0.130754  -0.109944                 -0.658398   \n",
       "\n",
       "   num_contacts_prev_campaign  personal_loan_yes  prev_campaign_outcome_other  \\\n",
       "0                   -0.357751          -0.437125                    -0.209059   \n",
       "1                   -0.357751          -0.437125                    -0.209059   \n",
       "2                   -0.357751          -0.437125                    -0.209059   \n",
       "\n",
       "   prev_campaign_outcome_success  prev_campaign_outcome_unknown  \n",
       "0                      -0.183317                       0.468109  \n",
       "1                      -0.183317                       0.468109  \n",
       "2                      -0.183317                       0.468109  "
      ]
     },
     "execution_count": 102,
     "metadata": {},
     "output_type": "execute_result"
    }
   ],
   "source": [
    "test.head(3)"
   ]
  },
  {
   "cell_type": "markdown",
   "metadata": {},
   "source": [
    "### Predicting on the Test data"
   ]
  },
  {
   "cell_type": "code",
   "execution_count": 103,
   "metadata": {},
   "outputs": [],
   "source": [
    "# Test Predict\n",
    "test_pred_prob = pd.DataFrame(result.predict(test))\n",
    "test_pred_prob.columns = ['prob']\n",
    "test_id = test['id']"
   ]
  },
  {
   "cell_type": "code",
   "execution_count": 104,
   "metadata": {},
   "outputs": [
    {
     "data": {
      "text/html": [
       "<div>\n",
       "<style scoped>\n",
       "    .dataframe tbody tr th:only-of-type {\n",
       "        vertical-align: middle;\n",
       "    }\n",
       "\n",
       "    .dataframe tbody tr th {\n",
       "        vertical-align: top;\n",
       "    }\n",
       "\n",
       "    .dataframe thead th {\n",
       "        text-align: right;\n",
       "    }\n",
       "</style>\n",
       "<table border=\"1\" class=\"dataframe\">\n",
       "  <thead>\n",
       "    <tr style=\"text-align: right;\">\n",
       "      <th></th>\n",
       "      <th>Id</th>\n",
       "      <th>Prob</th>\n",
       "    </tr>\n",
       "  </thead>\n",
       "  <tbody>\n",
       "    <tr>\n",
       "      <th>0</th>\n",
       "      <td>id_17231</td>\n",
       "      <td>0.077434</td>\n",
       "    </tr>\n",
       "    <tr>\n",
       "      <th>1</th>\n",
       "      <td>id_34508</td>\n",
       "      <td>0.014671</td>\n",
       "    </tr>\n",
       "    <tr>\n",
       "      <th>2</th>\n",
       "      <td>id_44504</td>\n",
       "      <td>0.069731</td>\n",
       "    </tr>\n",
       "    <tr>\n",
       "      <th>3</th>\n",
       "      <td>id_174</td>\n",
       "      <td>0.010562</td>\n",
       "    </tr>\n",
       "    <tr>\n",
       "      <th>4</th>\n",
       "      <td>id_2115</td>\n",
       "      <td>0.555162</td>\n",
       "    </tr>\n",
       "  </tbody>\n",
       "</table>\n",
       "</div>"
      ],
      "text/plain": [
       "         Id      Prob\n",
       "0  id_17231  0.077434\n",
       "1  id_34508  0.014671\n",
       "2  id_44504  0.069731\n",
       "3    id_174  0.010562\n",
       "4   id_2115  0.555162"
      ]
     },
     "execution_count": 104,
     "metadata": {},
     "output_type": "execute_result"
    }
   ],
   "source": [
    "# Making a dataframe\n",
    "test_pred = pd.concat([test_id,test_pred_prob], axis = 1)\n",
    "test_pred.columns = ['Id','Prob']\n",
    "test_pred.head()"
   ]
  },
  {
   "cell_type": "code",
   "execution_count": 105,
   "metadata": {},
   "outputs": [],
   "source": [
    "test_pred['Predicted'] = test_pred['Prob'].apply(lambda x: 0 if x<0.0816 else 1)"
   ]
  },
  {
   "cell_type": "code",
   "execution_count": 106,
   "metadata": {},
   "outputs": [
    {
     "data": {
      "text/html": [
       "<div>\n",
       "<style scoped>\n",
       "    .dataframe tbody tr th:only-of-type {\n",
       "        vertical-align: middle;\n",
       "    }\n",
       "\n",
       "    .dataframe tbody tr th {\n",
       "        vertical-align: top;\n",
       "    }\n",
       "\n",
       "    .dataframe thead th {\n",
       "        text-align: right;\n",
       "    }\n",
       "</style>\n",
       "<table border=\"1\" class=\"dataframe\">\n",
       "  <thead>\n",
       "    <tr style=\"text-align: right;\">\n",
       "      <th></th>\n",
       "      <th>Id</th>\n",
       "      <th>Prob</th>\n",
       "      <th>Predicted</th>\n",
       "    </tr>\n",
       "  </thead>\n",
       "  <tbody>\n",
       "    <tr>\n",
       "      <th>0</th>\n",
       "      <td>id_17231</td>\n",
       "      <td>0.077434</td>\n",
       "      <td>0</td>\n",
       "    </tr>\n",
       "    <tr>\n",
       "      <th>1</th>\n",
       "      <td>id_34508</td>\n",
       "      <td>0.014671</td>\n",
       "      <td>0</td>\n",
       "    </tr>\n",
       "    <tr>\n",
       "      <th>2</th>\n",
       "      <td>id_44504</td>\n",
       "      <td>0.069731</td>\n",
       "      <td>0</td>\n",
       "    </tr>\n",
       "    <tr>\n",
       "      <th>3</th>\n",
       "      <td>id_174</td>\n",
       "      <td>0.010562</td>\n",
       "      <td>0</td>\n",
       "    </tr>\n",
       "    <tr>\n",
       "      <th>4</th>\n",
       "      <td>id_2115</td>\n",
       "      <td>0.555162</td>\n",
       "      <td>1</td>\n",
       "    </tr>\n",
       "  </tbody>\n",
       "</table>\n",
       "</div>"
      ],
      "text/plain": [
       "         Id      Prob  Predicted\n",
       "0  id_17231  0.077434          0\n",
       "1  id_34508  0.014671          0\n",
       "2  id_44504  0.069731          0\n",
       "3    id_174  0.010562          0\n",
       "4   id_2115  0.555162          1"
      ]
     },
     "execution_count": 106,
     "metadata": {},
     "output_type": "execute_result"
    }
   ],
   "source": [
    "test_pred.head()"
   ]
  },
  {
   "cell_type": "code",
   "execution_count": 107,
   "metadata": {},
   "outputs": [],
   "source": [
    "final_sub = test_pred[['Id','Predicted']]"
   ]
  },
  {
   "cell_type": "code",
   "execution_count": 108,
   "metadata": {},
   "outputs": [],
   "source": [
    "final_sub.rename(columns={'Id':'id','Predicted':'term_deposit_subscribed'},inplace=True)"
   ]
  },
  {
   "cell_type": "code",
   "execution_count": 109,
   "metadata": {},
   "outputs": [],
   "source": [
    "final_sub.to_csv('final_sub.csv',index=False)"
   ]
  },
  {
   "cell_type": "markdown",
   "metadata": {},
   "source": [
    "#### Spliting the train data into train and validate"
   ]
  },
  {
   "cell_type": "code",
   "execution_count": 92,
   "metadata": {},
   "outputs": [],
   "source": [
    "# First we seperate the data into trainx and trainy\n",
    "train_x = train[train.columns.difference(['target'])]\n",
    "train_y = train['target']"
   ]
  },
  {
   "cell_type": "code",
   "execution_count": 93,
   "metadata": {},
   "outputs": [],
   "source": [
    "validate_x = validation[validation.columns.difference(['target'])]\n",
    "validate_y = validation['target']"
   ]
  },
  {
   "cell_type": "markdown",
   "metadata": {},
   "source": [
    "### Random Forest Classifier"
   ]
  },
  {
   "cell_type": "code",
   "execution_count": 124,
   "metadata": {},
   "outputs": [],
   "source": [
    "from sklearn.ensemble import RandomForestClassifier"
   ]
  },
  {
   "cell_type": "code",
   "execution_count": 143,
   "metadata": {},
   "outputs": [
    {
     "name": "stdout",
     "output_type": "stream",
     "text": [
      "Fitting 10 folds for each of 36 candidates, totalling 360 fits\n"
     ]
    },
    {
     "name": "stderr",
     "output_type": "stream",
     "text": [
      "[Parallel(n_jobs=-1)]: Using backend LokyBackend with 4 concurrent workers.\n",
      "[Parallel(n_jobs=-1)]: Done  42 tasks      | elapsed:  1.3min\n",
      "[Parallel(n_jobs=-1)]: Done 192 tasks      | elapsed:  6.4min\n",
      "[Parallel(n_jobs=-1)]: Done 360 out of 360 | elapsed: 12.9min finished\n"
     ]
    }
   ],
   "source": [
    "paragrid_rf = {'n_estimators':[70,80,90,100,110,120],\n",
    "              'max_features': [10,11,12,13,14,15]}\n",
    "\n",
    "gscv_rf = GridSearchCV(estimator=RandomForestClassifier(),\n",
    "                      param_grid=paragrid_rf,\n",
    "                      cv = 10,\n",
    "                      verbose=True,n_jobs=-1)\n",
    "gscv_result = gscv_rf.fit(train_x,train_y)"
   ]
  },
  {
   "cell_type": "code",
   "execution_count": 144,
   "metadata": {},
   "outputs": [
    {
     "data": {
      "text/plain": [
       "{'max_features': 12, 'n_estimators': 120}"
      ]
     },
     "execution_count": 144,
     "metadata": {},
     "output_type": "execute_result"
    }
   ],
   "source": [
    "gscv_result.best_params_"
   ]
  },
  {
   "cell_type": "code",
   "execution_count": 145,
   "metadata": {},
   "outputs": [
    {
     "data": {
      "text/plain": [
       "0.9144097513670332"
      ]
     },
     "execution_count": 145,
     "metadata": {},
     "output_type": "execute_result"
    }
   ],
   "source": [
    "gscv_rf.best_score_"
   ]
  },
  {
   "cell_type": "code",
   "execution_count": 150,
   "metadata": {},
   "outputs": [
    {
     "data": {
      "text/plain": [
       "RandomForestClassifier(max_features=12, n_estimators=120, n_jobs=-1,\n",
       "                       oob_score=True)"
      ]
     },
     "execution_count": 150,
     "metadata": {},
     "output_type": "execute_result"
    }
   ],
   "source": [
    "rf_clf = RandomForestClassifier(oob_score=True, n_estimators=120,max_features=12,n_jobs=-1)\n",
    "rf_clf.fit(train_x,train_y)"
   ]
  },
  {
   "cell_type": "code",
   "execution_count": 151,
   "metadata": {},
   "outputs": [
    {
     "data": {
      "text/plain": [
       "39"
      ]
     },
     "execution_count": 151,
     "metadata": {},
     "output_type": "execute_result"
    }
   ],
   "source": [
    "rf_clf.n_features_"
   ]
  },
  {
   "cell_type": "code",
   "execution_count": 152,
   "metadata": {},
   "outputs": [],
   "source": [
    "train_pred = rf_clf.predict(train_x)"
   ]
  },
  {
   "cell_type": "code",
   "execution_count": 153,
   "metadata": {},
   "outputs": [],
   "source": [
    "validate_pred = rf_clf.predict(validate_x)"
   ]
  },
  {
   "cell_type": "code",
   "execution_count": 154,
   "metadata": {},
   "outputs": [
    {
     "name": "stdout",
     "output_type": "stream",
     "text": [
      "              precision    recall  f1-score   support\n",
      "\n",
      "         0.0       1.00      1.00      1.00     19751\n",
      "         1.0       1.00      1.00      1.00      2401\n",
      "\n",
      "    accuracy                           1.00     22152\n",
      "   macro avg       1.00      1.00      1.00     22152\n",
      "weighted avg       1.00      1.00      1.00     22152\n",
      "\n"
     ]
    }
   ],
   "source": [
    "print(metrics.classification_report(train_y,train_pred))"
   ]
  },
  {
   "cell_type": "code",
   "execution_count": 155,
   "metadata": {},
   "outputs": [
    {
     "name": "stdout",
     "output_type": "stream",
     "text": [
      "              precision    recall  f1-score   support\n",
      "\n",
      "         0.0       0.94      0.97      0.95      8502\n",
      "         1.0       0.63      0.47      0.54       993\n",
      "\n",
      "    accuracy                           0.92      9495\n",
      "   macro avg       0.79      0.72      0.75      9495\n",
      "weighted avg       0.91      0.92      0.91      9495\n",
      "\n"
     ]
    }
   ],
   "source": [
    "print(metrics.classification_report(validate_y,validate_pred))"
   ]
  },
  {
   "cell_type": "code",
   "execution_count": null,
   "metadata": {},
   "outputs": [],
   "source": [
    "test_x = test[test.columns.difference(['id'])]\n",
    "\n",
    "test_id = test['id']"
   ]
  },
  {
   "cell_type": "code",
   "execution_count": 163,
   "metadata": {},
   "outputs": [],
   "source": [
    "test_pred = rf_clf.predict(test_x)"
   ]
  },
  {
   "cell_type": "code",
   "execution_count": 167,
   "metadata": {},
   "outputs": [],
   "source": [
    "final_sub = pd.concat([pd.DataFrame(test_id),pd.DataFrame(test_pred)],axis=1)"
   ]
  },
  {
   "cell_type": "code",
   "execution_count": 173,
   "metadata": {},
   "outputs": [],
   "source": [
    "final_sub.columns = ['id','term_deposit_subscribed']"
   ]
  },
  {
   "cell_type": "code",
   "execution_count": 176,
   "metadata": {},
   "outputs": [],
   "source": [
    "final_sub.to_csv('final_sub.csv',index=False)"
   ]
  },
  {
   "cell_type": "markdown",
   "metadata": {},
   "source": [
    "### Decision Tree"
   ]
  },
  {
   "cell_type": "code",
   "execution_count": 109,
   "metadata": {},
   "outputs": [],
   "source": [
    "from sklearn.tree import DecisionTreeClassifier"
   ]
  },
  {
   "cell_type": "code",
   "execution_count": 118,
   "metadata": {},
   "outputs": [],
   "source": [
    "dtc = DecisionTreeClassifier(random_state=1)\n",
    "\n",
    "dtc.fit(train_x,train_y)\n",
    "\n",
    "pred_val = dtc.predict(validate_x)"
   ]
  },
  {
   "cell_type": "code",
   "execution_count": 119,
   "metadata": {},
   "outputs": [
    {
     "data": {
      "text/plain": [
       "0.4859903381642512"
      ]
     },
     "execution_count": 119,
     "metadata": {},
     "output_type": "execute_result"
    }
   ],
   "source": [
    "f1_score(validate_y,pred_val)"
   ]
  },
  {
   "cell_type": "code",
   "execution_count": 135,
   "metadata": {},
   "outputs": [],
   "source": [
    "# Hyper parameter tuning\n",
    "para_comb = {'max_depth':[4,6,8,10,12,14,16],\n",
    "             'criterion':['gini','entropy'],\n",
    "             'min_samples_split':[5,10,20,30,40],\n",
    "             'max_features':[0.2,0.4,0.6,0.8,1],\n",
    "             'max_leaf_nodes':[8,16,32,64,128,256],\n",
    "            'class_weight': [{0: 1, 1: 1}, {0: 1, 1: 2}, {0: 1, 1: 3}, {0: 1, 1: 4}, {0: 1, 1: 5}]}\n",
    "\n",
    "gs_dt = GridSearchCV(DecisionTreeClassifier(),\n",
    "                    param_grid=para_comb,\n",
    "                    scoring='f1',\n",
    "                    verbose=True,n_jobs=-1)"
   ]
  },
  {
   "cell_type": "code",
   "execution_count": 136,
   "metadata": {},
   "outputs": [
    {
     "name": "stdout",
     "output_type": "stream",
     "text": [
      "Fitting 5 folds for each of 10500 candidates, totalling 52500 fits\n"
     ]
    },
    {
     "name": "stderr",
     "output_type": "stream",
     "text": [
      "[Parallel(n_jobs=-1)]: Using backend LokyBackend with 4 concurrent workers.\n",
      "[Parallel(n_jobs=-1)]: Done  48 tasks      | elapsed:    5.2s\n",
      "[Parallel(n_jobs=-1)]: Done 348 tasks      | elapsed:   11.5s\n",
      "[Parallel(n_jobs=-1)]: Done 848 tasks      | elapsed:   23.0s\n",
      "[Parallel(n_jobs=-1)]: Done 1548 tasks      | elapsed:   41.7s\n",
      "[Parallel(n_jobs=-1)]: Done 2448 tasks      | elapsed:  1.1min\n",
      "[Parallel(n_jobs=-1)]: Done 3548 tasks      | elapsed:  1.7min\n",
      "[Parallel(n_jobs=-1)]: Done 4848 tasks      | elapsed:  2.4min\n",
      "[Parallel(n_jobs=-1)]: Done 6348 tasks      | elapsed:  3.1min\n",
      "[Parallel(n_jobs=-1)]: Done 8048 tasks      | elapsed:  3.9min\n",
      "[Parallel(n_jobs=-1)]: Done 9948 tasks      | elapsed:  5.0min\n",
      "[Parallel(n_jobs=-1)]: Done 12048 tasks      | elapsed:  6.0min\n",
      "[Parallel(n_jobs=-1)]: Done 14348 tasks      | elapsed:  7.2min\n",
      "[Parallel(n_jobs=-1)]: Done 16848 tasks      | elapsed:  8.6min\n",
      "[Parallel(n_jobs=-1)]: Done 19548 tasks      | elapsed: 10.2min\n",
      "[Parallel(n_jobs=-1)]: Done 22448 tasks      | elapsed: 11.7min\n",
      "[Parallel(n_jobs=-1)]: Done 25548 tasks      | elapsed: 13.5min\n",
      "[Parallel(n_jobs=-1)]: Done 28848 tasks      | elapsed: 15.1min\n",
      "[Parallel(n_jobs=-1)]: Done 32348 tasks      | elapsed: 17.0min\n",
      "[Parallel(n_jobs=-1)]: Done 36048 tasks      | elapsed: 18.9min\n",
      "[Parallel(n_jobs=-1)]: Done 39948 tasks      | elapsed: 20.9min\n",
      "[Parallel(n_jobs=-1)]: Done 44048 tasks      | elapsed: 23.1min\n",
      "[Parallel(n_jobs=-1)]: Done 48348 tasks      | elapsed: 25.5min\n",
      "[Parallel(n_jobs=-1)]: Done 52500 out of 52500 | elapsed: 27.9min finished\n"
     ]
    },
    {
     "data": {
      "text/plain": [
       "GridSearchCV(estimator=DecisionTreeClassifier(), n_jobs=-1,\n",
       "             param_grid={'class_weight': [{0: 1, 1: 1}, {0: 1, 1: 2},\n",
       "                                          {0: 1, 1: 3}, {0: 1, 1: 4},\n",
       "                                          {0: 1, 1: 5}],\n",
       "                         'criterion': ['gini', 'entropy'],\n",
       "                         'max_depth': [4, 6, 8, 10, 12, 14, 16],\n",
       "                         'max_features': [0.2, 0.4, 0.6, 0.8, 1],\n",
       "                         'max_leaf_nodes': [8, 16, 32, 64, 128, 256],\n",
       "                         'min_samples_split': [5, 10, 20, 30, 40]},\n",
       "             scoring='f1', verbose=True)"
      ]
     },
     "execution_count": 136,
     "metadata": {},
     "output_type": "execute_result"
    }
   ],
   "source": [
    "gs_dt.fit(train_x,train_y)"
   ]
  },
  {
   "cell_type": "code",
   "execution_count": 137,
   "metadata": {},
   "outputs": [
    {
     "data": {
      "text/plain": [
       "DecisionTreeClassifier(class_weight={0: 1, 1: 2}, criterion='entropy',\n",
       "                       max_depth=16, max_features=0.8, max_leaf_nodes=128,\n",
       "                       min_samples_split=40)"
      ]
     },
     "execution_count": 137,
     "metadata": {},
     "output_type": "execute_result"
    }
   ],
   "source": [
    "gs_dt.best_estimator_"
   ]
  },
  {
   "cell_type": "code",
   "execution_count": 138,
   "metadata": {},
   "outputs": [
    {
     "data": {
      "text/plain": [
       "{'class_weight': {0: 1, 1: 2},\n",
       " 'criterion': 'entropy',\n",
       " 'max_depth': 16,\n",
       " 'max_features': 0.8,\n",
       " 'max_leaf_nodes': 128,\n",
       " 'min_samples_split': 40}"
      ]
     },
     "execution_count": 138,
     "metadata": {},
     "output_type": "execute_result"
    }
   ],
   "source": [
    "gs_dt.best_params_"
   ]
  },
  {
   "cell_type": "code",
   "execution_count": 139,
   "metadata": {},
   "outputs": [
    {
     "data": {
      "text/plain": [
       "0.6210331964284452"
      ]
     },
     "execution_count": 139,
     "metadata": {},
     "output_type": "execute_result"
    }
   ],
   "source": [
    "gs_dt.best_score_"
   ]
  },
  {
   "cell_type": "code",
   "execution_count": 144,
   "metadata": {},
   "outputs": [
    {
     "data": {
      "text/plain": [
       "DecisionTreeClassifier(class_weight={0: 1, 1: 2}, criterion='entropy',\n",
       "                       max_depth=16, max_features=0.8, max_leaf_nodes=128,\n",
       "                       min_samples_split=40)"
      ]
     },
     "execution_count": 144,
     "metadata": {},
     "output_type": "execute_result"
    }
   ],
   "source": [
    "dtc = DecisionTreeClassifier(class_weight={0: 1, 1: 2}, criterion='entropy',\n",
    "                       max_depth=16, max_features=0.8, max_leaf_nodes=128,\n",
    "                       min_samples_split=40)\n",
    "\n",
    "dtc.fit(train_x,train_y)"
   ]
  },
  {
   "cell_type": "code",
   "execution_count": 145,
   "metadata": {},
   "outputs": [
    {
     "data": {
      "text/plain": [
       "0.599827882960413"
      ]
     },
     "execution_count": 145,
     "metadata": {},
     "output_type": "execute_result"
    }
   ],
   "source": [
    "pred_val = dtc.predict(validate_x)\n",
    "f1_score(validate_y,pred_val)"
   ]
  },
  {
   "cell_type": "code",
   "execution_count": 149,
   "metadata": {},
   "outputs": [],
   "source": [
    "# Predicting on test data\n",
    "target = dtc.predict(test_x_scaled)\n",
    "test_id = test['id']\n",
    "final_sub = pd.concat([pd.Series(test_id),pd.Series(target)],axis=1)\n",
    "final_sub.columns = ['id','term_deposit_subscribed']"
   ]
  },
  {
   "cell_type": "code",
   "execution_count": 150,
   "metadata": {},
   "outputs": [],
   "source": [
    "final_sub.to_csv('final_sub.csv',index=False)"
   ]
  },
  {
   "cell_type": "markdown",
   "metadata": {},
   "source": [
    "### Gradient Boosting"
   ]
  },
  {
   "cell_type": "code",
   "execution_count": null,
   "metadata": {},
   "outputs": [],
   "source": [
    "from sklearn.ensemble import GradientBoostingClassifier"
   ]
  },
  {
   "cell_type": "code",
   "execution_count": null,
   "metadata": {},
   "outputs": [],
   "source": [
    "paragrid_gbm = {'n_estimators':[300,350,400],\n",
    "                'learning_rate':[10**x for x in range(-3,1)],\n",
    "                'max_feature':[5,6,7,8,9,10]}"
   ]
  },
  {
   "cell_type": "code",
   "execution_count": null,
   "metadata": {},
   "outputs": [],
   "source": [
    "gscv_gbm =GridSearchCV(GradientBoostingClassifier(),\n",
    "                       param_grid=paragrid_gbm,\n",
    "                      cv=5,\n",
    "                      verbose=True,n_jobs=-1)"
   ]
  },
  {
   "cell_type": "code",
   "execution_count": null,
   "metadata": {},
   "outputs": [],
   "source": [
    "gscv_gbm.fit(train_x,train_y)"
   ]
  },
  {
   "cell_type": "markdown",
   "metadata": {},
   "source": [
    "### Xg boost"
   ]
  },
  {
   "cell_type": "code",
   "execution_count": 151,
   "metadata": {},
   "outputs": [],
   "source": [
    "from xgboost import XGBClassifier"
   ]
  },
  {
   "cell_type": "code",
   "execution_count": 176,
   "metadata": {},
   "outputs": [],
   "source": [
    "para_comb = {'criterion':['gini','entropy'],\n",
    "             'max_features':[0.6,0.8],\n",
    "            'n_estimators': [50,100,150],\n",
    "           'learning_rate': [10**x for x in range(-2,1)]}\n"
   ]
  },
  {
   "cell_type": "code",
   "execution_count": 84,
   "metadata": {},
   "outputs": [],
   "source": [
    "#paragrid = {'n_estimators': [200,300],\n",
    "#           'learning_rate': [10**x for x in range(-2,1)],\n",
    " #          'max_features' : [7,8]}"
   ]
  },
  {
   "cell_type": "code",
   "execution_count": 177,
   "metadata": {},
   "outputs": [],
   "source": [
    "gscv_xgbm = GridSearchCV(estimator=XGBClassifier(),\n",
    "                        param_grid=para_comb,\n",
    "                        cv=5, scoring='f1',\n",
    "                        verbose=True, n_jobs=-1)"
   ]
  },
  {
   "cell_type": "code",
   "execution_count": 178,
   "metadata": {},
   "outputs": [
    {
     "name": "stdout",
     "output_type": "stream",
     "text": [
      "Fitting 5 folds for each of 36 candidates, totalling 180 fits\n"
     ]
    },
    {
     "name": "stderr",
     "output_type": "stream",
     "text": [
      "[Parallel(n_jobs=-1)]: Using backend LokyBackend with 4 concurrent workers.\n",
      "[Parallel(n_jobs=-1)]: Done  42 tasks      | elapsed:  1.5min\n",
      "[Parallel(n_jobs=-1)]: Done 180 out of 180 | elapsed:  6.2min finished\n"
     ]
    },
    {
     "name": "stdout",
     "output_type": "stream",
     "text": [
      "[14:47:50] WARNING: C:/Users/Administrator/workspace/xgboost-win64_release_1.3.0/src/learner.cc:541: \n",
      "Parameters: { criterion, max_features } might not be used.\n",
      "\n",
      "  This may not be accurate due to some parameters are only used in language bindings but\n",
      "  passed down to XGBoost core.  Or some parameters are not used but slip through this\n",
      "  verification. Please open an issue if you find above cases.\n",
      "\n",
      "\n",
      "[14:47:50] WARNING: C:/Users/Administrator/workspace/xgboost-win64_release_1.3.0/src/learner.cc:1061: Starting in XGBoost 1.3.0, the default evaluation metric used with the objective 'binary:logistic' was changed from 'error' to 'logloss'. Explicitly set eval_metric if you'd like to restore the old behavior.\n"
     ]
    },
    {
     "data": {
      "text/plain": [
       "GridSearchCV(cv=5,\n",
       "             estimator=XGBClassifier(base_score=None, booster=None,\n",
       "                                     colsample_bylevel=None,\n",
       "                                     colsample_bynode=None,\n",
       "                                     colsample_bytree=None, gamma=None,\n",
       "                                     gpu_id=None, importance_type='gain',\n",
       "                                     interaction_constraints=None,\n",
       "                                     learning_rate=None, max_delta_step=None,\n",
       "                                     max_depth=None, min_child_weight=None,\n",
       "                                     missing=nan, monotone_constraints=None,\n",
       "                                     n_estimators=100, n_jobs=None,\n",
       "                                     num_parallel_tree=None, random_state=None,\n",
       "                                     reg_alpha=None, reg_lambda=None,\n",
       "                                     scale_pos_weight=None, subsample=None,\n",
       "                                     tree_method=None, validate_parameters=None,\n",
       "                                     verbosity=None),\n",
       "             n_jobs=-1,\n",
       "             param_grid={'criterion': ['gini', 'entropy'],\n",
       "                         'learning_rate': [0.01, 0.1, 1],\n",
       "                         'max_features': [0.6, 0.8],\n",
       "                         'n_estimators': [50, 100, 150]},\n",
       "             scoring='f1', verbose=True)"
      ]
     },
     "execution_count": 178,
     "metadata": {},
     "output_type": "execute_result"
    }
   ],
   "source": [
    "gscv_xgbm.fit(train_x,train_y)"
   ]
  },
  {
   "cell_type": "code",
   "execution_count": 179,
   "metadata": {},
   "outputs": [
    {
     "data": {
      "text/plain": [
       "{'criterion': 'gini',\n",
       " 'learning_rate': 0.1,\n",
       " 'max_features': 0.6,\n",
       " 'n_estimators': 150}"
      ]
     },
     "execution_count": 179,
     "metadata": {},
     "output_type": "execute_result"
    }
   ],
   "source": [
    "gscv_xgbm.best_params_"
   ]
  },
  {
   "cell_type": "code",
   "execution_count": 181,
   "metadata": {},
   "outputs": [
    {
     "data": {
      "text/plain": [
       "0.5607415934778219"
      ]
     },
     "execution_count": 181,
     "metadata": {},
     "output_type": "execute_result"
    }
   ],
   "source": [
    "gscv_xgbm.best_score_"
   ]
  },
  {
   "cell_type": "code",
   "execution_count": 182,
   "metadata": {},
   "outputs": [],
   "source": [
    "xgbm = gscv_xgbm.best_estimator_"
   ]
  },
  {
   "cell_type": "code",
   "execution_count": 183,
   "metadata": {},
   "outputs": [
    {
     "name": "stdout",
     "output_type": "stream",
     "text": [
      "[14:48:54] WARNING: C:/Users/Administrator/workspace/xgboost-win64_release_1.3.0/src/learner.cc:541: \n",
      "Parameters: { criterion, max_features } might not be used.\n",
      "\n",
      "  This may not be accurate due to some parameters are only used in language bindings but\n",
      "  passed down to XGBoost core.  Or some parameters are not used but slip through this\n",
      "  verification. Please open an issue if you find above cases.\n",
      "\n",
      "\n",
      "[14:48:54] WARNING: C:/Users/Administrator/workspace/xgboost-win64_release_1.3.0/src/learner.cc:1061: Starting in XGBoost 1.3.0, the default evaluation metric used with the objective 'binary:logistic' was changed from 'error' to 'logloss'. Explicitly set eval_metric if you'd like to restore the old behavior.\n"
     ]
    },
    {
     "data": {
      "text/plain": [
       "XGBClassifier(base_score=0.5, booster='gbtree', colsample_bylevel=1,\n",
       "              colsample_bynode=1, colsample_bytree=1, criterion='gini', gamma=0,\n",
       "              gpu_id=-1, importance_type='gain', interaction_constraints='',\n",
       "              learning_rate=0.1, max_delta_step=0, max_depth=6,\n",
       "              max_features=0.6, min_child_weight=1, missing=nan,\n",
       "              monotone_constraints='()', n_estimators=150, n_jobs=4,\n",
       "              num_parallel_tree=1, random_state=0, reg_alpha=0, reg_lambda=1,\n",
       "              scale_pos_weight=1, subsample=1, tree_method='exact',\n",
       "              validate_parameters=1, verbosity=None)"
      ]
     },
     "execution_count": 183,
     "metadata": {},
     "output_type": "execute_result"
    }
   ],
   "source": [
    "xgbm.fit(train_x,train_y)"
   ]
  },
  {
   "cell_type": "code",
   "execution_count": 184,
   "metadata": {},
   "outputs": [
    {
     "name": "stdout",
     "output_type": "stream",
     "text": [
      "0.5611111111111111\n",
      "0.7365194327831873\n"
     ]
    }
   ],
   "source": [
    "print(metrics.f1_score(validate_y,xgbm.predict(validate_x)))\n",
    "print(metrics.roc_auc_score(validate_y,xgbm.predict(validate_x)))"
   ]
  },
  {
   "cell_type": "code",
   "execution_count": 99,
   "metadata": {},
   "outputs": [
    {
     "data": {
      "text/html": [
       "<div>\n",
       "<style scoped>\n",
       "    .dataframe tbody tr th:only-of-type {\n",
       "        vertical-align: middle;\n",
       "    }\n",
       "\n",
       "    .dataframe tbody tr th {\n",
       "        vertical-align: top;\n",
       "    }\n",
       "\n",
       "    .dataframe thead th {\n",
       "        text-align: right;\n",
       "    }\n",
       "</style>\n",
       "<table border=\"1\" class=\"dataframe\">\n",
       "  <thead>\n",
       "    <tr style=\"text-align: right;\">\n",
       "      <th></th>\n",
       "      <th>balance</th>\n",
       "      <th>communication_type_telephone</th>\n",
       "      <th>communication_type_unknown</th>\n",
       "      <th>customer_age</th>\n",
       "      <th>day_of_month</th>\n",
       "      <th>default_yes</th>\n",
       "      <th>education</th>\n",
       "      <th>housing_loan_yes</th>\n",
       "      <th>job_type_blue_collar</th>\n",
       "      <th>job_type_entrepreneur</th>\n",
       "      <th>job_type_housemaid</th>\n",
       "      <th>job_type_management</th>\n",
       "      <th>job_type_retired</th>\n",
       "      <th>job_type_self_employed</th>\n",
       "      <th>job_type_services</th>\n",
       "      <th>job_type_student</th>\n",
       "      <th>job_type_technician</th>\n",
       "      <th>job_type_unemployed</th>\n",
       "      <th>job_type_unknown</th>\n",
       "      <th>last_contact_duration</th>\n",
       "      <th>marital_married</th>\n",
       "      <th>marital_single</th>\n",
       "      <th>month_aug</th>\n",
       "      <th>month_dec</th>\n",
       "      <th>month_feb</th>\n",
       "      <th>month_jan</th>\n",
       "      <th>month_jul</th>\n",
       "      <th>month_jun</th>\n",
       "      <th>month_mar</th>\n",
       "      <th>month_may</th>\n",
       "      <th>month_nov</th>\n",
       "      <th>month_oct</th>\n",
       "      <th>month_sep</th>\n",
       "      <th>num_contacts_in_campaign</th>\n",
       "      <th>num_contacts_prev_campaign</th>\n",
       "      <th>personal_loan_yes</th>\n",
       "      <th>prev_campaign_outcome_other</th>\n",
       "      <th>prev_campaign_outcome_success</th>\n",
       "      <th>prev_campaign_outcome_unknown</th>\n",
       "    </tr>\n",
       "  </thead>\n",
       "  <tbody>\n",
       "    <tr>\n",
       "      <th>0</th>\n",
       "      <td>7136.0</td>\n",
       "      <td>0</td>\n",
       "      <td>0</td>\n",
       "      <td>55.0</td>\n",
       "      <td>13</td>\n",
       "      <td>0</td>\n",
       "      <td>3</td>\n",
       "      <td>0</td>\n",
       "      <td>0</td>\n",
       "      <td>0</td>\n",
       "      <td>0</td>\n",
       "      <td>0</td>\n",
       "      <td>1</td>\n",
       "      <td>0</td>\n",
       "      <td>0</td>\n",
       "      <td>0</td>\n",
       "      <td>0</td>\n",
       "      <td>0</td>\n",
       "      <td>0</td>\n",
       "      <td>90.0</td>\n",
       "      <td>1</td>\n",
       "      <td>0</td>\n",
       "      <td>1</td>\n",
       "      <td>0</td>\n",
       "      <td>0</td>\n",
       "      <td>0</td>\n",
       "      <td>0</td>\n",
       "      <td>0</td>\n",
       "      <td>0</td>\n",
       "      <td>0</td>\n",
       "      <td>0</td>\n",
       "      <td>0</td>\n",
       "      <td>0</td>\n",
       "      <td>2.0</td>\n",
       "      <td>0.0</td>\n",
       "      <td>0</td>\n",
       "      <td>0</td>\n",
       "      <td>0</td>\n",
       "      <td>1</td>\n",
       "    </tr>\n",
       "    <tr>\n",
       "      <th>1</th>\n",
       "      <td>179.0</td>\n",
       "      <td>0</td>\n",
       "      <td>0</td>\n",
       "      <td>24.0</td>\n",
       "      <td>18</td>\n",
       "      <td>0</td>\n",
       "      <td>2</td>\n",
       "      <td>1</td>\n",
       "      <td>1</td>\n",
       "      <td>0</td>\n",
       "      <td>0</td>\n",
       "      <td>0</td>\n",
       "      <td>0</td>\n",
       "      <td>0</td>\n",
       "      <td>0</td>\n",
       "      <td>0</td>\n",
       "      <td>0</td>\n",
       "      <td>0</td>\n",
       "      <td>0</td>\n",
       "      <td>63.0</td>\n",
       "      <td>0</td>\n",
       "      <td>1</td>\n",
       "      <td>0</td>\n",
       "      <td>0</td>\n",
       "      <td>0</td>\n",
       "      <td>0</td>\n",
       "      <td>0</td>\n",
       "      <td>0</td>\n",
       "      <td>0</td>\n",
       "      <td>1</td>\n",
       "      <td>0</td>\n",
       "      <td>0</td>\n",
       "      <td>0</td>\n",
       "      <td>2.0</td>\n",
       "      <td>0.0</td>\n",
       "      <td>0</td>\n",
       "      <td>0</td>\n",
       "      <td>0</td>\n",
       "      <td>1</td>\n",
       "    </tr>\n",
       "    <tr>\n",
       "      <th>2</th>\n",
       "      <td>143.0</td>\n",
       "      <td>0</td>\n",
       "      <td>0</td>\n",
       "      <td>46.0</td>\n",
       "      <td>8</td>\n",
       "      <td>0</td>\n",
       "      <td>2</td>\n",
       "      <td>0</td>\n",
       "      <td>0</td>\n",
       "      <td>0</td>\n",
       "      <td>0</td>\n",
       "      <td>0</td>\n",
       "      <td>0</td>\n",
       "      <td>0</td>\n",
       "      <td>0</td>\n",
       "      <td>0</td>\n",
       "      <td>1</td>\n",
       "      <td>0</td>\n",
       "      <td>0</td>\n",
       "      <td>208.0</td>\n",
       "      <td>0</td>\n",
       "      <td>0</td>\n",
       "      <td>0</td>\n",
       "      <td>0</td>\n",
       "      <td>0</td>\n",
       "      <td>0</td>\n",
       "      <td>1</td>\n",
       "      <td>0</td>\n",
       "      <td>0</td>\n",
       "      <td>0</td>\n",
       "      <td>0</td>\n",
       "      <td>0</td>\n",
       "      <td>0</td>\n",
       "      <td>1.0</td>\n",
       "      <td>0.0</td>\n",
       "      <td>0</td>\n",
       "      <td>0</td>\n",
       "      <td>0</td>\n",
       "      <td>1</td>\n",
       "    </tr>\n",
       "  </tbody>\n",
       "</table>\n",
       "</div>"
      ],
      "text/plain": [
       "   balance  communication_type_telephone  communication_type_unknown  \\\n",
       "0   7136.0                             0                           0   \n",
       "1    179.0                             0                           0   \n",
       "2    143.0                             0                           0   \n",
       "\n",
       "   customer_age  day_of_month  default_yes  education  housing_loan_yes  \\\n",
       "0          55.0            13            0          3                 0   \n",
       "1          24.0            18            0          2                 1   \n",
       "2          46.0             8            0          2                 0   \n",
       "\n",
       "   job_type_blue_collar  job_type_entrepreneur  job_type_housemaid  \\\n",
       "0                     0                      0                   0   \n",
       "1                     1                      0                   0   \n",
       "2                     0                      0                   0   \n",
       "\n",
       "   job_type_management  job_type_retired  job_type_self_employed  \\\n",
       "0                    0                 1                       0   \n",
       "1                    0                 0                       0   \n",
       "2                    0                 0                       0   \n",
       "\n",
       "   job_type_services  job_type_student  job_type_technician  \\\n",
       "0                  0                 0                    0   \n",
       "1                  0                 0                    0   \n",
       "2                  0                 0                    1   \n",
       "\n",
       "   job_type_unemployed  job_type_unknown  last_contact_duration  \\\n",
       "0                    0                 0                   90.0   \n",
       "1                    0                 0                   63.0   \n",
       "2                    0                 0                  208.0   \n",
       "\n",
       "   marital_married  marital_single  month_aug  month_dec  month_feb  \\\n",
       "0                1               0          1          0          0   \n",
       "1                0               1          0          0          0   \n",
       "2                0               0          0          0          0   \n",
       "\n",
       "   month_jan  month_jul  month_jun  month_mar  month_may  month_nov  \\\n",
       "0          0          0          0          0          0          0   \n",
       "1          0          0          0          0          1          0   \n",
       "2          0          1          0          0          0          0   \n",
       "\n",
       "   month_oct  month_sep  num_contacts_in_campaign  num_contacts_prev_campaign  \\\n",
       "0          0          0                       2.0                         0.0   \n",
       "1          0          0                       2.0                         0.0   \n",
       "2          0          0                       1.0                         0.0   \n",
       "\n",
       "   personal_loan_yes  prev_campaign_outcome_other  \\\n",
       "0                  0                            0   \n",
       "1                  0                            0   \n",
       "2                  0                            0   \n",
       "\n",
       "   prev_campaign_outcome_success  prev_campaign_outcome_unknown  \n",
       "0                              0                              1  \n",
       "1                              0                              1  \n",
       "2                              0                              1  "
      ]
     },
     "execution_count": 99,
     "metadata": {},
     "output_type": "execute_result"
    }
   ],
   "source": [
    "test_x.head(3)"
   ]
  },
  {
   "cell_type": "code",
   "execution_count": 185,
   "metadata": {},
   "outputs": [],
   "source": [
    "# Predicting on test data\n",
    "target = xgbm.predict(test_x_scaled)"
   ]
  },
  {
   "cell_type": "code",
   "execution_count": 186,
   "metadata": {},
   "outputs": [],
   "source": [
    "test_id = test['id']"
   ]
  },
  {
   "cell_type": "code",
   "execution_count": 187,
   "metadata": {},
   "outputs": [],
   "source": [
    "final_sub = pd.concat([pd.Series(test_id),pd.Series(target)],axis=1)\n",
    "final_sub.columns = ['id','term_deposit_subscribed']"
   ]
  },
  {
   "cell_type": "code",
   "execution_count": 189,
   "metadata": {},
   "outputs": [],
   "source": [
    "final_sub.to_csv('final_sub.csv',index=False)"
   ]
  }
 ],
 "metadata": {
  "kernelspec": {
   "display_name": "Python 3",
   "language": "python",
   "name": "python3"
  },
  "language_info": {
   "codemirror_mode": {
    "name": "ipython",
    "version": 3
   },
   "file_extension": ".py",
   "mimetype": "text/x-python",
   "name": "python",
   "nbconvert_exporter": "python",
   "pygments_lexer": "ipython3",
   "version": "3.8.3"
  }
 },
 "nbformat": 4,
 "nbformat_minor": 4
}
